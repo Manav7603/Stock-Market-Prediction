{
 "cells": [
  {
   "cell_type": "code",
   "execution_count": 2,
   "id": "69f749a2",
   "metadata": {},
   "outputs": [],
   "source": [
    "import pandas as pd\n",
    "import matplotlib.pyplot as plt"
   ]
  },
  {
   "cell_type": "code",
   "execution_count": 3,
   "id": "ce2365cb",
   "metadata": {},
   "outputs": [],
   "source": [
    "rd=pd.read_csv('INFY.NS.csv',index_col= None)"
   ]
  },
  {
   "cell_type": "code",
   "execution_count": 4,
   "id": "f812b705",
   "metadata": {},
   "outputs": [
    {
     "data": {
      "text/html": [
       "<div>\n",
       "<style scoped>\n",
       "    .dataframe tbody tr th:only-of-type {\n",
       "        vertical-align: middle;\n",
       "    }\n",
       "\n",
       "    .dataframe tbody tr th {\n",
       "        vertical-align: top;\n",
       "    }\n",
       "\n",
       "    .dataframe thead th {\n",
       "        text-align: right;\n",
       "    }\n",
       "</style>\n",
       "<table border=\"1\" class=\"dataframe\">\n",
       "  <thead>\n",
       "    <tr style=\"text-align: right;\">\n",
       "      <th></th>\n",
       "      <th>Date</th>\n",
       "      <th>Open</th>\n",
       "      <th>High</th>\n",
       "      <th>Low</th>\n",
       "      <th>Close</th>\n",
       "      <th>Adj Close</th>\n",
       "      <th>Volume</th>\n",
       "    </tr>\n",
       "  </thead>\n",
       "  <tbody>\n",
       "    <tr>\n",
       "      <th>0</th>\n",
       "      <td>1996-01-01</td>\n",
       "      <td>0.794921</td>\n",
       "      <td>0.796679</td>\n",
       "      <td>0.791015</td>\n",
       "      <td>0.796679</td>\n",
       "      <td>0.549483</td>\n",
       "      <td>204800.0</td>\n",
       "    </tr>\n",
       "    <tr>\n",
       "      <th>1</th>\n",
       "      <td>1996-01-02</td>\n",
       "      <td>0.794921</td>\n",
       "      <td>0.798828</td>\n",
       "      <td>0.793457</td>\n",
       "      <td>0.793457</td>\n",
       "      <td>0.547260</td>\n",
       "      <td>204800.0</td>\n",
       "    </tr>\n",
       "    <tr>\n",
       "      <th>2</th>\n",
       "      <td>1996-01-03</td>\n",
       "      <td>0.798828</td>\n",
       "      <td>0.798828</td>\n",
       "      <td>0.798828</td>\n",
       "      <td>0.798828</td>\n",
       "      <td>0.550965</td>\n",
       "      <td>102400.0</td>\n",
       "    </tr>\n",
       "    <tr>\n",
       "      <th>3</th>\n",
       "      <td>1996-01-04</td>\n",
       "      <td>0.791015</td>\n",
       "      <td>0.794921</td>\n",
       "      <td>0.791015</td>\n",
       "      <td>0.793554</td>\n",
       "      <td>0.547327</td>\n",
       "      <td>307200.0</td>\n",
       "    </tr>\n",
       "    <tr>\n",
       "      <th>4</th>\n",
       "      <td>1996-01-05</td>\n",
       "      <td>0.784179</td>\n",
       "      <td>0.784179</td>\n",
       "      <td>0.784179</td>\n",
       "      <td>0.784179</td>\n",
       "      <td>0.540861</td>\n",
       "      <td>51200.0</td>\n",
       "    </tr>\n",
       "  </tbody>\n",
       "</table>\n",
       "</div>"
      ],
      "text/plain": [
       "         Date      Open      High       Low     Close  Adj Close    Volume\n",
       "0  1996-01-01  0.794921  0.796679  0.791015  0.796679   0.549483  204800.0\n",
       "1  1996-01-02  0.794921  0.798828  0.793457  0.793457   0.547260  204800.0\n",
       "2  1996-01-03  0.798828  0.798828  0.798828  0.798828   0.550965  102400.0\n",
       "3  1996-01-04  0.791015  0.794921  0.791015  0.793554   0.547327  307200.0\n",
       "4  1996-01-05  0.784179  0.784179  0.784179  0.784179   0.540861   51200.0"
      ]
     },
     "execution_count": 4,
     "metadata": {},
     "output_type": "execute_result"
    }
   ],
   "source": [
    "rd.head()"
   ]
  },
  {
   "cell_type": "code",
   "execution_count": 6,
   "id": "57ee356d",
   "metadata": {},
   "outputs": [
    {
     "data": {
      "text/html": [
       "<div>\n",
       "<style scoped>\n",
       "    .dataframe tbody tr th:only-of-type {\n",
       "        vertical-align: middle;\n",
       "    }\n",
       "\n",
       "    .dataframe tbody tr th {\n",
       "        vertical-align: top;\n",
       "    }\n",
       "\n",
       "    .dataframe thead th {\n",
       "        text-align: right;\n",
       "    }\n",
       "</style>\n",
       "<table border=\"1\" class=\"dataframe\">\n",
       "  <thead>\n",
       "    <tr style=\"text-align: right;\">\n",
       "      <th></th>\n",
       "      <th>Date</th>\n",
       "      <th>Open</th>\n",
       "      <th>High</th>\n",
       "      <th>Low</th>\n",
       "      <th>Close</th>\n",
       "      <th>Adj Close</th>\n",
       "      <th>Volume</th>\n",
       "    </tr>\n",
       "  </thead>\n",
       "  <tbody>\n",
       "    <tr>\n",
       "      <th>0</th>\n",
       "      <td>1996-01-01</td>\n",
       "      <td>0.794921</td>\n",
       "      <td>0.796679</td>\n",
       "      <td>0.791015</td>\n",
       "      <td>0.796679</td>\n",
       "      <td>0.549483</td>\n",
       "      <td>204800.0</td>\n",
       "    </tr>\n",
       "    <tr>\n",
       "      <th>1</th>\n",
       "      <td>1996-01-02</td>\n",
       "      <td>0.794921</td>\n",
       "      <td>0.798828</td>\n",
       "      <td>0.793457</td>\n",
       "      <td>0.793457</td>\n",
       "      <td>0.547260</td>\n",
       "      <td>204800.0</td>\n",
       "    </tr>\n",
       "    <tr>\n",
       "      <th>2</th>\n",
       "      <td>1996-01-03</td>\n",
       "      <td>0.798828</td>\n",
       "      <td>0.798828</td>\n",
       "      <td>0.798828</td>\n",
       "      <td>0.798828</td>\n",
       "      <td>0.550965</td>\n",
       "      <td>102400.0</td>\n",
       "    </tr>\n",
       "    <tr>\n",
       "      <th>3</th>\n",
       "      <td>1996-01-04</td>\n",
       "      <td>0.791015</td>\n",
       "      <td>0.794921</td>\n",
       "      <td>0.791015</td>\n",
       "      <td>0.793554</td>\n",
       "      <td>0.547327</td>\n",
       "      <td>307200.0</td>\n",
       "    </tr>\n",
       "    <tr>\n",
       "      <th>4</th>\n",
       "      <td>1996-01-05</td>\n",
       "      <td>0.784179</td>\n",
       "      <td>0.784179</td>\n",
       "      <td>0.784179</td>\n",
       "      <td>0.784179</td>\n",
       "      <td>0.540861</td>\n",
       "      <td>51200.0</td>\n",
       "    </tr>\n",
       "    <tr>\n",
       "      <th>...</th>\n",
       "      <td>...</td>\n",
       "      <td>...</td>\n",
       "      <td>...</td>\n",
       "      <td>...</td>\n",
       "      <td>...</td>\n",
       "      <td>...</td>\n",
       "      <td>...</td>\n",
       "    </tr>\n",
       "    <tr>\n",
       "      <th>6496</th>\n",
       "      <td>2021-10-12</td>\n",
       "      <td>1677.000000</td>\n",
       "      <td>1689.000000</td>\n",
       "      <td>1662.000000</td>\n",
       "      <td>1685.150024</td>\n",
       "      <td>1685.150024</td>\n",
       "      <td>7439300.0</td>\n",
       "    </tr>\n",
       "    <tr>\n",
       "      <th>6497</th>\n",
       "      <td>2021-10-13</td>\n",
       "      <td>1695.949951</td>\n",
       "      <td>1713.650024</td>\n",
       "      <td>1680.050049</td>\n",
       "      <td>1709.199951</td>\n",
       "      <td>1709.199951</td>\n",
       "      <td>7104171.0</td>\n",
       "    </tr>\n",
       "    <tr>\n",
       "      <th>6498</th>\n",
       "      <td>2021-10-14</td>\n",
       "      <td>1754.000000</td>\n",
       "      <td>1783.599976</td>\n",
       "      <td>1698.199951</td>\n",
       "      <td>1715.750000</td>\n",
       "      <td>1715.750000</td>\n",
       "      <td>19655776.0</td>\n",
       "    </tr>\n",
       "    <tr>\n",
       "      <th>6499</th>\n",
       "      <td>2021-10-18</td>\n",
       "      <td>1740.000000</td>\n",
       "      <td>1799.000000</td>\n",
       "      <td>1740.000000</td>\n",
       "      <td>1792.150024</td>\n",
       "      <td>1792.150024</td>\n",
       "      <td>13438109.0</td>\n",
       "    </tr>\n",
       "    <tr>\n",
       "      <th>6500</th>\n",
       "      <td>2021-10-19</td>\n",
       "      <td>1814.000000</td>\n",
       "      <td>1834.500000</td>\n",
       "      <td>1782.300049</td>\n",
       "      <td>1822.150024</td>\n",
       "      <td>1822.150024</td>\n",
       "      <td>10324260.0</td>\n",
       "    </tr>\n",
       "  </tbody>\n",
       "</table>\n",
       "<p>6501 rows × 7 columns</p>\n",
       "</div>"
      ],
      "text/plain": [
       "            Date         Open         High          Low        Close  \\\n",
       "0     1996-01-01     0.794921     0.796679     0.791015     0.796679   \n",
       "1     1996-01-02     0.794921     0.798828     0.793457     0.793457   \n",
       "2     1996-01-03     0.798828     0.798828     0.798828     0.798828   \n",
       "3     1996-01-04     0.791015     0.794921     0.791015     0.793554   \n",
       "4     1996-01-05     0.784179     0.784179     0.784179     0.784179   \n",
       "...          ...          ...          ...          ...          ...   \n",
       "6496  2021-10-12  1677.000000  1689.000000  1662.000000  1685.150024   \n",
       "6497  2021-10-13  1695.949951  1713.650024  1680.050049  1709.199951   \n",
       "6498  2021-10-14  1754.000000  1783.599976  1698.199951  1715.750000   \n",
       "6499  2021-10-18  1740.000000  1799.000000  1740.000000  1792.150024   \n",
       "6500  2021-10-19  1814.000000  1834.500000  1782.300049  1822.150024   \n",
       "\n",
       "        Adj Close      Volume  \n",
       "0        0.549483    204800.0  \n",
       "1        0.547260    204800.0  \n",
       "2        0.550965    102400.0  \n",
       "3        0.547327    307200.0  \n",
       "4        0.540861     51200.0  \n",
       "...           ...         ...  \n",
       "6496  1685.150024   7439300.0  \n",
       "6497  1709.199951   7104171.0  \n",
       "6498  1715.750000  19655776.0  \n",
       "6499  1792.150024  13438109.0  \n",
       "6500  1822.150024  10324260.0  \n",
       "\n",
       "[6501 rows x 7 columns]"
      ]
     },
     "execution_count": 6,
     "metadata": {},
     "output_type": "execute_result"
    }
   ],
   "source": [
    "rd"
   ]
  },
  {
   "cell_type": "code",
   "execution_count": 7,
   "id": "ce9523ee",
   "metadata": {},
   "outputs": [
    {
     "data": {
      "text/html": [
       "<div>\n",
       "<style scoped>\n",
       "    .dataframe tbody tr th:only-of-type {\n",
       "        vertical-align: middle;\n",
       "    }\n",
       "\n",
       "    .dataframe tbody tr th {\n",
       "        vertical-align: top;\n",
       "    }\n",
       "\n",
       "    .dataframe thead th {\n",
       "        text-align: right;\n",
       "    }\n",
       "</style>\n",
       "<table border=\"1\" class=\"dataframe\">\n",
       "  <thead>\n",
       "    <tr style=\"text-align: right;\">\n",
       "      <th></th>\n",
       "      <th>Date</th>\n",
       "      <th>Open</th>\n",
       "      <th>High</th>\n",
       "      <th>Low</th>\n",
       "      <th>Close</th>\n",
       "      <th>Adj Close</th>\n",
       "      <th>Volume</th>\n",
       "    </tr>\n",
       "  </thead>\n",
       "  <tbody>\n",
       "    <tr>\n",
       "      <th>6496</th>\n",
       "      <td>2021-10-12</td>\n",
       "      <td>1677.000000</td>\n",
       "      <td>1689.000000</td>\n",
       "      <td>1662.000000</td>\n",
       "      <td>1685.150024</td>\n",
       "      <td>1685.150024</td>\n",
       "      <td>7439300.0</td>\n",
       "    </tr>\n",
       "    <tr>\n",
       "      <th>6497</th>\n",
       "      <td>2021-10-13</td>\n",
       "      <td>1695.949951</td>\n",
       "      <td>1713.650024</td>\n",
       "      <td>1680.050049</td>\n",
       "      <td>1709.199951</td>\n",
       "      <td>1709.199951</td>\n",
       "      <td>7104171.0</td>\n",
       "    </tr>\n",
       "    <tr>\n",
       "      <th>6498</th>\n",
       "      <td>2021-10-14</td>\n",
       "      <td>1754.000000</td>\n",
       "      <td>1783.599976</td>\n",
       "      <td>1698.199951</td>\n",
       "      <td>1715.750000</td>\n",
       "      <td>1715.750000</td>\n",
       "      <td>19655776.0</td>\n",
       "    </tr>\n",
       "    <tr>\n",
       "      <th>6499</th>\n",
       "      <td>2021-10-18</td>\n",
       "      <td>1740.000000</td>\n",
       "      <td>1799.000000</td>\n",
       "      <td>1740.000000</td>\n",
       "      <td>1792.150024</td>\n",
       "      <td>1792.150024</td>\n",
       "      <td>13438109.0</td>\n",
       "    </tr>\n",
       "    <tr>\n",
       "      <th>6500</th>\n",
       "      <td>2021-10-19</td>\n",
       "      <td>1814.000000</td>\n",
       "      <td>1834.500000</td>\n",
       "      <td>1782.300049</td>\n",
       "      <td>1822.150024</td>\n",
       "      <td>1822.150024</td>\n",
       "      <td>10324260.0</td>\n",
       "    </tr>\n",
       "  </tbody>\n",
       "</table>\n",
       "</div>"
      ],
      "text/plain": [
       "            Date         Open         High          Low        Close  \\\n",
       "6496  2021-10-12  1677.000000  1689.000000  1662.000000  1685.150024   \n",
       "6497  2021-10-13  1695.949951  1713.650024  1680.050049  1709.199951   \n",
       "6498  2021-10-14  1754.000000  1783.599976  1698.199951  1715.750000   \n",
       "6499  2021-10-18  1740.000000  1799.000000  1740.000000  1792.150024   \n",
       "6500  2021-10-19  1814.000000  1834.500000  1782.300049  1822.150024   \n",
       "\n",
       "        Adj Close      Volume  \n",
       "6496  1685.150024   7439300.0  \n",
       "6497  1709.199951   7104171.0  \n",
       "6498  1715.750000  19655776.0  \n",
       "6499  1792.150024  13438109.0  \n",
       "6500  1822.150024  10324260.0  "
      ]
     },
     "execution_count": 7,
     "metadata": {},
     "output_type": "execute_result"
    }
   ],
   "source": [
    "rd.tail()"
   ]
  },
  {
   "cell_type": "code",
   "execution_count": 8,
   "id": "47009dfa",
   "metadata": {},
   "outputs": [],
   "source": [
    "rd=rd.dropna()"
   ]
  },
  {
   "cell_type": "code",
   "execution_count": 9,
   "id": "cf7ea768",
   "metadata": {},
   "outputs": [
    {
     "data": {
      "text/plain": [
       "Int64Index([   0,    1,    2,    3,    4,    5,    6,    7,    8,    9,\n",
       "            ...\n",
       "            6491, 6492, 6493, 6494, 6495, 6496, 6497, 6498, 6499, 6500],\n",
       "           dtype='int64', length=6487)"
      ]
     },
     "execution_count": 9,
     "metadata": {},
     "output_type": "execute_result"
    }
   ],
   "source": [
    "rd.index"
   ]
  },
  {
   "cell_type": "code",
   "execution_count": 10,
   "id": "84a46104",
   "metadata": {},
   "outputs": [],
   "source": [
    "rd1=rd.set_index('Date',inplace=False)\n",
    "rd2=rd1.copy()"
   ]
  },
  {
   "cell_type": "code",
   "execution_count": 9,
   "id": "653db380",
   "metadata": {
    "scrolled": true
   },
   "outputs": [
    {
     "data": {
      "text/html": [
       "<div>\n",
       "<style scoped>\n",
       "    .dataframe tbody tr th:only-of-type {\n",
       "        vertical-align: middle;\n",
       "    }\n",
       "\n",
       "    .dataframe tbody tr th {\n",
       "        vertical-align: top;\n",
       "    }\n",
       "\n",
       "    .dataframe thead th {\n",
       "        text-align: right;\n",
       "    }\n",
       "</style>\n",
       "<table border=\"1\" class=\"dataframe\">\n",
       "  <thead>\n",
       "    <tr style=\"text-align: right;\">\n",
       "      <th></th>\n",
       "      <th>Date</th>\n",
       "      <th>Open</th>\n",
       "      <th>High</th>\n",
       "      <th>Low</th>\n",
       "      <th>Close</th>\n",
       "      <th>Adj Close</th>\n",
       "      <th>Volume</th>\n",
       "    </tr>\n",
       "  </thead>\n",
       "  <tbody>\n",
       "    <tr>\n",
       "      <th>0</th>\n",
       "      <td>1996-01-01</td>\n",
       "      <td>0.794921</td>\n",
       "      <td>0.796679</td>\n",
       "      <td>0.791015</td>\n",
       "      <td>0.796679</td>\n",
       "      <td>0.549483</td>\n",
       "      <td>204800.0</td>\n",
       "    </tr>\n",
       "    <tr>\n",
       "      <th>1</th>\n",
       "      <td>1996-01-02</td>\n",
       "      <td>0.794921</td>\n",
       "      <td>0.798828</td>\n",
       "      <td>0.793457</td>\n",
       "      <td>0.793457</td>\n",
       "      <td>0.547260</td>\n",
       "      <td>204800.0</td>\n",
       "    </tr>\n",
       "    <tr>\n",
       "      <th>2</th>\n",
       "      <td>1996-01-03</td>\n",
       "      <td>0.798828</td>\n",
       "      <td>0.798828</td>\n",
       "      <td>0.798828</td>\n",
       "      <td>0.798828</td>\n",
       "      <td>0.550965</td>\n",
       "      <td>102400.0</td>\n",
       "    </tr>\n",
       "    <tr>\n",
       "      <th>3</th>\n",
       "      <td>1996-01-04</td>\n",
       "      <td>0.791015</td>\n",
       "      <td>0.794921</td>\n",
       "      <td>0.791015</td>\n",
       "      <td>0.793554</td>\n",
       "      <td>0.547327</td>\n",
       "      <td>307200.0</td>\n",
       "    </tr>\n",
       "    <tr>\n",
       "      <th>4</th>\n",
       "      <td>1996-01-05</td>\n",
       "      <td>0.784179</td>\n",
       "      <td>0.784179</td>\n",
       "      <td>0.784179</td>\n",
       "      <td>0.784179</td>\n",
       "      <td>0.540861</td>\n",
       "      <td>51200.0</td>\n",
       "    </tr>\n",
       "    <tr>\n",
       "      <th>...</th>\n",
       "      <td>...</td>\n",
       "      <td>...</td>\n",
       "      <td>...</td>\n",
       "      <td>...</td>\n",
       "      <td>...</td>\n",
       "      <td>...</td>\n",
       "      <td>...</td>\n",
       "    </tr>\n",
       "    <tr>\n",
       "      <th>6496</th>\n",
       "      <td>2021-10-12</td>\n",
       "      <td>1677.000000</td>\n",
       "      <td>1689.000000</td>\n",
       "      <td>1662.000000</td>\n",
       "      <td>1685.150024</td>\n",
       "      <td>1685.150024</td>\n",
       "      <td>7439300.0</td>\n",
       "    </tr>\n",
       "    <tr>\n",
       "      <th>6497</th>\n",
       "      <td>2021-10-13</td>\n",
       "      <td>1695.949951</td>\n",
       "      <td>1713.650024</td>\n",
       "      <td>1680.050049</td>\n",
       "      <td>1709.199951</td>\n",
       "      <td>1709.199951</td>\n",
       "      <td>7104171.0</td>\n",
       "    </tr>\n",
       "    <tr>\n",
       "      <th>6498</th>\n",
       "      <td>2021-10-14</td>\n",
       "      <td>1754.000000</td>\n",
       "      <td>1783.599976</td>\n",
       "      <td>1698.199951</td>\n",
       "      <td>1715.750000</td>\n",
       "      <td>1715.750000</td>\n",
       "      <td>19655776.0</td>\n",
       "    </tr>\n",
       "    <tr>\n",
       "      <th>6499</th>\n",
       "      <td>2021-10-18</td>\n",
       "      <td>1740.000000</td>\n",
       "      <td>1799.000000</td>\n",
       "      <td>1740.000000</td>\n",
       "      <td>1792.150024</td>\n",
       "      <td>1792.150024</td>\n",
       "      <td>13438109.0</td>\n",
       "    </tr>\n",
       "    <tr>\n",
       "      <th>6500</th>\n",
       "      <td>2021-10-19</td>\n",
       "      <td>1814.000000</td>\n",
       "      <td>1834.500000</td>\n",
       "      <td>1782.300049</td>\n",
       "      <td>1822.150024</td>\n",
       "      <td>1822.150024</td>\n",
       "      <td>10324260.0</td>\n",
       "    </tr>\n",
       "  </tbody>\n",
       "</table>\n",
       "<p>6487 rows × 7 columns</p>\n",
       "</div>"
      ],
      "text/plain": [
       "            Date         Open         High          Low        Close  \\\n",
       "0     1996-01-01     0.794921     0.796679     0.791015     0.796679   \n",
       "1     1996-01-02     0.794921     0.798828     0.793457     0.793457   \n",
       "2     1996-01-03     0.798828     0.798828     0.798828     0.798828   \n",
       "3     1996-01-04     0.791015     0.794921     0.791015     0.793554   \n",
       "4     1996-01-05     0.784179     0.784179     0.784179     0.784179   \n",
       "...          ...          ...          ...          ...          ...   \n",
       "6496  2021-10-12  1677.000000  1689.000000  1662.000000  1685.150024   \n",
       "6497  2021-10-13  1695.949951  1713.650024  1680.050049  1709.199951   \n",
       "6498  2021-10-14  1754.000000  1783.599976  1698.199951  1715.750000   \n",
       "6499  2021-10-18  1740.000000  1799.000000  1740.000000  1792.150024   \n",
       "6500  2021-10-19  1814.000000  1834.500000  1782.300049  1822.150024   \n",
       "\n",
       "        Adj Close      Volume  \n",
       "0        0.549483    204800.0  \n",
       "1        0.547260    204800.0  \n",
       "2        0.550965    102400.0  \n",
       "3        0.547327    307200.0  \n",
       "4        0.540861     51200.0  \n",
       "...           ...         ...  \n",
       "6496  1685.150024   7439300.0  \n",
       "6497  1709.199951   7104171.0  \n",
       "6498  1715.750000  19655776.0  \n",
       "6499  1792.150024  13438109.0  \n",
       "6500  1822.150024  10324260.0  \n",
       "\n",
       "[6487 rows x 7 columns]"
      ]
     },
     "execution_count": 9,
     "metadata": {},
     "output_type": "execute_result"
    }
   ],
   "source": [
    "rd"
   ]
  },
  {
   "cell_type": "markdown",
   "id": "2ecaf6b1",
   "metadata": {},
   "source": [
    "rd1.Close=pd.concat([rd1.Close[:'2015-06-12']/2,rd1.Close['2015-06-15':]]).copy()"
   ]
  },
  {
   "cell_type": "markdown",
   "id": "fb09ee96",
   "metadata": {},
   "source": [
    "rd1.Close"
   ]
  },
  {
   "cell_type": "code",
   "execution_count": 10,
   "id": "20bac58f",
   "metadata": {},
   "outputs": [
    {
     "data": {
      "text/html": [
       "<div>\n",
       "<style scoped>\n",
       "    .dataframe tbody tr th:only-of-type {\n",
       "        vertical-align: middle;\n",
       "    }\n",
       "\n",
       "    .dataframe tbody tr th {\n",
       "        vertical-align: top;\n",
       "    }\n",
       "\n",
       "    .dataframe thead th {\n",
       "        text-align: right;\n",
       "    }\n",
       "</style>\n",
       "<table border=\"1\" class=\"dataframe\">\n",
       "  <thead>\n",
       "    <tr style=\"text-align: right;\">\n",
       "      <th></th>\n",
       "      <th>Open</th>\n",
       "      <th>High</th>\n",
       "      <th>Low</th>\n",
       "      <th>Close</th>\n",
       "      <th>Adj Close</th>\n",
       "      <th>Volume</th>\n",
       "    </tr>\n",
       "    <tr>\n",
       "      <th>Date</th>\n",
       "      <th></th>\n",
       "      <th></th>\n",
       "      <th></th>\n",
       "      <th></th>\n",
       "      <th></th>\n",
       "      <th></th>\n",
       "    </tr>\n",
       "  </thead>\n",
       "  <tbody>\n",
       "    <tr>\n",
       "      <th>1996-01-01</th>\n",
       "      <td>0.794921</td>\n",
       "      <td>0.796679</td>\n",
       "      <td>0.791015</td>\n",
       "      <td>0.796679</td>\n",
       "      <td>0.549483</td>\n",
       "      <td>204800.0</td>\n",
       "    </tr>\n",
       "    <tr>\n",
       "      <th>1996-01-02</th>\n",
       "      <td>0.794921</td>\n",
       "      <td>0.798828</td>\n",
       "      <td>0.793457</td>\n",
       "      <td>0.793457</td>\n",
       "      <td>0.547260</td>\n",
       "      <td>204800.0</td>\n",
       "    </tr>\n",
       "    <tr>\n",
       "      <th>1996-01-03</th>\n",
       "      <td>0.798828</td>\n",
       "      <td>0.798828</td>\n",
       "      <td>0.798828</td>\n",
       "      <td>0.798828</td>\n",
       "      <td>0.550965</td>\n",
       "      <td>102400.0</td>\n",
       "    </tr>\n",
       "    <tr>\n",
       "      <th>1996-01-04</th>\n",
       "      <td>0.791015</td>\n",
       "      <td>0.794921</td>\n",
       "      <td>0.791015</td>\n",
       "      <td>0.793554</td>\n",
       "      <td>0.547327</td>\n",
       "      <td>307200.0</td>\n",
       "    </tr>\n",
       "    <tr>\n",
       "      <th>1996-01-05</th>\n",
       "      <td>0.784179</td>\n",
       "      <td>0.784179</td>\n",
       "      <td>0.784179</td>\n",
       "      <td>0.784179</td>\n",
       "      <td>0.540861</td>\n",
       "      <td>51200.0</td>\n",
       "    </tr>\n",
       "    <tr>\n",
       "      <th>...</th>\n",
       "      <td>...</td>\n",
       "      <td>...</td>\n",
       "      <td>...</td>\n",
       "      <td>...</td>\n",
       "      <td>...</td>\n",
       "      <td>...</td>\n",
       "    </tr>\n",
       "    <tr>\n",
       "      <th>2021-10-12</th>\n",
       "      <td>1677.000000</td>\n",
       "      <td>1689.000000</td>\n",
       "      <td>1662.000000</td>\n",
       "      <td>1685.150024</td>\n",
       "      <td>1685.150024</td>\n",
       "      <td>7439300.0</td>\n",
       "    </tr>\n",
       "    <tr>\n",
       "      <th>2021-10-13</th>\n",
       "      <td>1695.949951</td>\n",
       "      <td>1713.650024</td>\n",
       "      <td>1680.050049</td>\n",
       "      <td>1709.199951</td>\n",
       "      <td>1709.199951</td>\n",
       "      <td>7104171.0</td>\n",
       "    </tr>\n",
       "    <tr>\n",
       "      <th>2021-10-14</th>\n",
       "      <td>1754.000000</td>\n",
       "      <td>1783.599976</td>\n",
       "      <td>1698.199951</td>\n",
       "      <td>1715.750000</td>\n",
       "      <td>1715.750000</td>\n",
       "      <td>19655776.0</td>\n",
       "    </tr>\n",
       "    <tr>\n",
       "      <th>2021-10-18</th>\n",
       "      <td>1740.000000</td>\n",
       "      <td>1799.000000</td>\n",
       "      <td>1740.000000</td>\n",
       "      <td>1792.150024</td>\n",
       "      <td>1792.150024</td>\n",
       "      <td>13438109.0</td>\n",
       "    </tr>\n",
       "    <tr>\n",
       "      <th>2021-10-19</th>\n",
       "      <td>1814.000000</td>\n",
       "      <td>1834.500000</td>\n",
       "      <td>1782.300049</td>\n",
       "      <td>1822.150024</td>\n",
       "      <td>1822.150024</td>\n",
       "      <td>10324260.0</td>\n",
       "    </tr>\n",
       "  </tbody>\n",
       "</table>\n",
       "<p>6487 rows × 6 columns</p>\n",
       "</div>"
      ],
      "text/plain": [
       "                   Open         High          Low        Close    Adj Close  \\\n",
       "Date                                                                          \n",
       "1996-01-01     0.794921     0.796679     0.791015     0.796679     0.549483   \n",
       "1996-01-02     0.794921     0.798828     0.793457     0.793457     0.547260   \n",
       "1996-01-03     0.798828     0.798828     0.798828     0.798828     0.550965   \n",
       "1996-01-04     0.791015     0.794921     0.791015     0.793554     0.547327   \n",
       "1996-01-05     0.784179     0.784179     0.784179     0.784179     0.540861   \n",
       "...                 ...          ...          ...          ...          ...   \n",
       "2021-10-12  1677.000000  1689.000000  1662.000000  1685.150024  1685.150024   \n",
       "2021-10-13  1695.949951  1713.650024  1680.050049  1709.199951  1709.199951   \n",
       "2021-10-14  1754.000000  1783.599976  1698.199951  1715.750000  1715.750000   \n",
       "2021-10-18  1740.000000  1799.000000  1740.000000  1792.150024  1792.150024   \n",
       "2021-10-19  1814.000000  1834.500000  1782.300049  1822.150024  1822.150024   \n",
       "\n",
       "                Volume  \n",
       "Date                    \n",
       "1996-01-01    204800.0  \n",
       "1996-01-02    204800.0  \n",
       "1996-01-03    102400.0  \n",
       "1996-01-04    307200.0  \n",
       "1996-01-05     51200.0  \n",
       "...                ...  \n",
       "2021-10-12   7439300.0  \n",
       "2021-10-13   7104171.0  \n",
       "2021-10-14  19655776.0  \n",
       "2021-10-18  13438109.0  \n",
       "2021-10-19  10324260.0  \n",
       "\n",
       "[6487 rows x 6 columns]"
      ]
     },
     "execution_count": 10,
     "metadata": {},
     "output_type": "execute_result"
    }
   ],
   "source": [
    "rd1"
   ]
  },
  {
   "cell_type": "code",
   "execution_count": 13,
   "id": "e31c7932",
   "metadata": {},
   "outputs": [
    {
     "data": {
      "image/png": "[encoded data removed]",
      "text/plain": [
       "<Figure size 640x480 with 1 Axes>"
      ]
     },
     "metadata": {},
     "output_type": "display_data"
    }
   ],
   "source": [
    "#sp\n",
    "plt.plot(rd1.Close)\n",
    "plt.title(\"CPA \",fontsize=20)\n",
    "plt.show()"
   ]
  },
  {
   "cell_type": "markdown",
   "id": "6a6fd807",
   "metadata": {},
   "source": [
    "rd1[\"Cp\"]=sp.copy()"
   ]
  },
  {
   "cell_type": "code",
   "execution_count": null,
   "id": "3a17fa05",
   "metadata": {
    "scrolled": true
   },
   "outputs": [],
   "source": [
    "rd1"
   ]
  },
  {
   "cell_type": "code",
   "execution_count": null,
   "id": "8ced110e",
   "metadata": {},
   "outputs": [],
   "source": [
    "rd1.index"
   ]
  },
  {
   "cell_type": "code",
   "execution_count": 17,
   "id": "c95e0711",
   "metadata": {},
   "outputs": [],
   "source": [
    "del rd1[\"Adj Close\"]"
   ]
  },
  {
   "cell_type": "code",
   "execution_count": null,
   "id": "aab429ac",
   "metadata": {},
   "outputs": [],
   "source": [
    "rd1=rd1.dropna()"
   ]
  },
  {
   "cell_type": "code",
   "execution_count": null,
   "id": "f8a2464f",
   "metadata": {},
   "outputs": [],
   "source": [
    "rd1[\"Tomorrow\"]=rd1[\"Close\"].shift(-1)"
   ]
  },
  {
   "cell_type": "code",
   "execution_count": null,
   "id": "002b99eb",
   "metadata": {},
   "outputs": [],
   "source": [
    "rd1.plot.line(y='Close',use_index=True)"
   ]
  },
  {
   "cell_type": "code",
   "execution_count": null,
   "id": "6219fed4",
   "metadata": {},
   "outputs": [],
   "source": [
    "rd1"
   ]
  },
  {
   "cell_type": "code",
   "execution_count": null,
   "id": "9d3a6342",
   "metadata": {},
   "outputs": [],
   "source": [
    "rd1[\"Target\"]=(rd1[\"Tomorrow\"]>rd1[\"Close\"]).astype(int)"
   ]
  },
  {
   "cell_type": "code",
   "execution_count": null,
   "id": "4bbc0efe",
   "metadata": {},
   "outputs": [],
   "source": [
    "rd1"
   ]
  },
  {
   "cell_type": "markdown",
   "id": "c461ee7d",
   "metadata": {},
   "source": [
    "## TO much data is not useful for stock market prediction"
   ]
  },
  {
   "cell_type": "code",
   "execution_count": null,
   "id": "331a5d0a",
   "metadata": {},
   "outputs": [],
   "source": [
    "rd1=rd1.loc[\"2000-01-01\":].copy()\n",
    "rd1"
   ]
  },
  {
   "cell_type": "code",
   "execution_count": null,
   "id": "bc179064",
   "metadata": {},
   "outputs": [],
   "source": [
    "from sklearn.ensemble import  RandomForestClassifier\n",
    "from sklearn.metrics import precision_score"
   ]
  },
  {
   "cell_type": "code",
   "execution_count": null,
   "id": "f27f7ad8",
   "metadata": {},
   "outputs": [],
   "source": [
    "model =RandomForestClassifier(n_estimators=200,min_samples_split=100,random_state=1)"
   ]
  },
  {
   "cell_type": "markdown",
   "id": "8e8c5379",
   "metadata": {},
   "source": [
    "Time seires data you cannt use cross validation... beacuse if you use than we already know the future... which is just not possible\n",
    "predicting past from future is not possible and this ssituation is called leakage"
   ]
  },
  {
   "cell_type": "markdown",
   "id": "5594176d",
   "metadata": {},
   "source": [
    "### Easiest way last 100 test and rest all for train"
   ]
  },
  {
   "cell_type": "code",
   "execution_count": null,
   "id": "2e07995b",
   "metadata": {},
   "outputs": [],
   "source": [
    "train = rd1.iloc[:-100]\n",
    "test = rd1.iloc[-100:]"
   ]
  },
  {
   "cell_type": "code",
   "execution_count": null,
   "id": "0872a5cf",
   "metadata": {},
   "outputs": [],
   "source": [
    "predictors = [\"Close\",\"Volume\",\"Open\",\"High\",\"Low\"]"
   ]
  },
  {
   "cell_type": "code",
   "execution_count": null,
   "id": "8b6c23cd",
   "metadata": {},
   "outputs": [],
   "source": [
    "model.fit(train[predictors], train[\"Target\"])"
   ]
  },
  {
   "cell_type": "code",
   "execution_count": null,
   "id": "159aba39",
   "metadata": {},
   "outputs": [],
   "source": [
    "rd1[rd1[\"Close\"].isnull()]"
   ]
  },
  {
   "cell_type": "code",
   "execution_count": null,
   "id": "20e7620c",
   "metadata": {},
   "outputs": [],
   "source": [
    "pred=model.predict(test[predictors])\n",
    "pred"
   ]
  },
  {
   "cell_type": "code",
   "execution_count": null,
   "id": "e79bd473",
   "metadata": {},
   "outputs": [],
   "source": [
    "pred=pd.Series(pred,index=test.index)"
   ]
  },
  {
   "cell_type": "code",
   "execution_count": null,
   "id": "86288482",
   "metadata": {},
   "outputs": [],
   "source": [
    "pred"
   ]
  },
  {
   "cell_type": "code",
   "execution_count": null,
   "id": "79a8f01d",
   "metadata": {},
   "outputs": [],
   "source": [
    "precision_score(test[\"Target\"],pred)"
   ]
  },
  {
   "cell_type": "code",
   "execution_count": null,
   "id": "35d5c66f",
   "metadata": {},
   "outputs": [],
   "source": [
    "combined=pd.concat([test[\"Target\"],pred],axis=1)"
   ]
  },
  {
   "cell_type": "code",
   "execution_count": null,
   "id": "b56ba115",
   "metadata": {},
   "outputs": [],
   "source": [
    "combined.plot()"
   ]
  },
  {
   "cell_type": "markdown",
   "id": "f0508846",
   "metadata": {},
   "source": [
    "So here when we predicted the market would go upthen it went up 56 peercent of the time"
   ]
  },
  {
   "cell_type": "code",
   "execution_count": null,
   "id": "8194f80b",
   "metadata": {},
   "outputs": [],
   "source": [
    "model.score(test[predictors],test[\"Target\"])"
   ]
  },
  {
   "cell_type": "markdown",
   "id": "fe153424",
   "metadata": {},
   "source": [
    "Bcktestting"
   ]
  },
  {
   "cell_type": "code",
   "execution_count": null,
   "id": "df4df601",
   "metadata": {},
   "outputs": [],
   "source": [
    "def predict(train,test,predictors,model):\n",
    "    model.fit(train[predictors], train[\"Target\"])\n",
    "    pred=model.predict(test[predictors])\n",
    "    pred=pd.Series(pred,index=test.index,name=\"Predictions\")\n",
    "    combined=pd.concat([test[\"Target\"],pred],axis=1)\n",
    "    return combined\n",
    "    "
   ]
  },
  {
   "cell_type": "code",
   "execution_count": null,
   "id": "1724d6cf",
   "metadata": {},
   "outputs": [],
   "source": [
    "def backtest(data,model,predictors,start=2500,step=250):\n",
    "    all_predic=[]\n",
    "    \n",
    "    for i in range(start,data.shape[0],step):\n",
    "        train=data.iloc[0:i].copy()\n",
    "        test =data.iloc[i:(i+step)].copy()\n",
    "        predictions = predict(train,test,predictors,model)\n",
    "        all_predic.append(predictions)\n",
    "    return pd.concat(all_predic)"
   ]
  },
  {
   "cell_type": "code",
   "execution_count": null,
   "id": "b5e0de49",
   "metadata": {},
   "outputs": [],
   "source": [
    "predictions = backtest(rd1,model,predictors)"
   ]
  },
  {
   "cell_type": "code",
   "execution_count": null,
   "id": "c9911f27",
   "metadata": {},
   "outputs": [],
   "source": [
    "predictions[\"Predictions\"].value_counts()"
   ]
  },
  {
   "cell_type": "code",
   "execution_count": null,
   "id": "a78e3861",
   "metadata": {},
   "outputs": [],
   "source": [
    "precision_score(predictions[\"Target\"],predictions[\"Predictions\"])"
   ]
  },
  {
   "cell_type": "code",
   "execution_count": null,
   "id": "809a55e1",
   "metadata": {},
   "outputs": [],
   "source": [
    "predictions[\"Target\"].value_counts()/predictions.shape[0]"
   ]
  },
  {
   "cell_type": "code",
   "execution_count": null,
   "id": "0e1698a1",
   "metadata": {},
   "outputs": [],
   "source": [
    "horizons=[2,5,60,250,1000]\n",
    "new_pred=[]\n",
    "for h in horizons:\n",
    "    r_avg =rd1.rolling(h).mean()\n",
    "    r_clmn=f\"Close_Ratio_{h}\"\n",
    "    rd1[r_clmn]=rd1[\"Close\"]/r_avg[\"Close\"]\n",
    "    \n",
    "    trend = f\"Trend_{h}\"  \n",
    "    rd1[trend]=rd1.shift(1).rolling(h).sum()[\"Target\"]\n",
    "    \n",
    "    new_pred+=[r_clmn,trend]\n",
    "    \n",
    "    \n",
    "    \n",
    "    \n"
   ]
  },
  {
   "cell_type": "code",
   "execution_count": null,
   "id": "293be1eb",
   "metadata": {},
   "outputs": [],
   "source": [
    "rd1\n"
   ]
  },
  {
   "cell_type": "code",
   "execution_count": null,
   "id": "9e7ff9a7",
   "metadata": {},
   "outputs": [],
   "source": []
  },
  {
   "cell_type": "code",
   "execution_count": null,
   "id": "41068804",
   "metadata": {},
   "outputs": [],
   "source": [
    " #rd1=rd1.dropna()\n",
    "rd1 = rd1.dropna(subset=rd1.columns[rd1.columns != \"Tomorrow\"])"
   ]
  },
  {
   "cell_type": "code",
   "execution_count": null,
   "id": "813e4285",
   "metadata": {},
   "outputs": [],
   "source": [
    "rd1"
   ]
  },
  {
   "cell_type": "code",
   "execution_count": null,
   "id": "1f145080",
   "metadata": {},
   "outputs": [],
   "source": [
    "model = RandomForestClassifier(n_estimators=200, min_samples_split=50, random_state=1)"
   ]
  },
  {
   "cell_type": "code",
   "execution_count": null,
   "id": "d0444d2a",
   "metadata": {},
   "outputs": [],
   "source": [
    "def predict(train, test, predictors, model):\n",
    "    model.fit(train[predictors], train[\"Target\"])\n",
    "    preds = model.predict_proba(test[predictors])[:,1]\n",
    "    preds[preds >=.6] = 1\n",
    "    preds[preds <.6] = 0\n",
    "    preds = pd.Series(preds, index=test.index, name=\"Predictions\")\n",
    "    combined = pd.concat([test[\"Target\"], preds], axis=1)\n",
    "    return combined"
   ]
  },
  {
   "cell_type": "code",
   "execution_count": null,
   "id": "a68a29fb",
   "metadata": {},
   "outputs": [],
   "source": [
    "predictions = backtest(rd1, model, new_pred)"
   ]
  },
  {
   "cell_type": "code",
   "execution_count": null,
   "id": "c2163793",
   "metadata": {},
   "outputs": [],
   "source": [
    "predictions[\"Predictions\"].value_counts()"
   ]
  },
  {
   "cell_type": "code",
   "execution_count": null,
   "id": "63506d40",
   "metadata": {},
   "outputs": [],
   "source": [
    "precision_score(predictions[\"Target\"], predictions[\"Predictions\"])"
   ]
  },
  {
   "cell_type": "code",
   "execution_count": null,
   "id": "4639bdb2",
   "metadata": {},
   "outputs": [],
   "source": [
    "predictions"
   ]
  },
  {
   "cell_type": "code",
   "execution_count": 18,
   "id": "021c8b42",
   "metadata": {},
   "outputs": [
    {
     "data": {
      "text/html": [
       "<div>\n",
       "<style scoped>\n",
       "    .dataframe tbody tr th:only-of-type {\n",
       "        vertical-align: middle;\n",
       "    }\n",
       "\n",
       "    .dataframe tbody tr th {\n",
       "        vertical-align: top;\n",
       "    }\n",
       "\n",
       "    .dataframe thead th {\n",
       "        text-align: right;\n",
       "    }\n",
       "</style>\n",
       "<table border=\"1\" class=\"dataframe\">\n",
       "  <thead>\n",
       "    <tr style=\"text-align: right;\">\n",
       "      <th></th>\n",
       "      <th>Open</th>\n",
       "      <th>High</th>\n",
       "      <th>Low</th>\n",
       "      <th>Close</th>\n",
       "      <th>Volume</th>\n",
       "    </tr>\n",
       "    <tr>\n",
       "      <th>Date</th>\n",
       "      <th></th>\n",
       "      <th></th>\n",
       "      <th></th>\n",
       "      <th></th>\n",
       "      <th></th>\n",
       "    </tr>\n",
       "  </thead>\n",
       "  <tbody>\n",
       "    <tr>\n",
       "      <th>1996-01-01</th>\n",
       "      <td>0.794921</td>\n",
       "      <td>0.796679</td>\n",
       "      <td>0.791015</td>\n",
       "      <td>0.796679</td>\n",
       "      <td>204800.0</td>\n",
       "    </tr>\n",
       "    <tr>\n",
       "      <th>1996-01-02</th>\n",
       "      <td>0.794921</td>\n",
       "      <td>0.798828</td>\n",
       "      <td>0.793457</td>\n",
       "      <td>0.793457</td>\n",
       "      <td>204800.0</td>\n",
       "    </tr>\n",
       "    <tr>\n",
       "      <th>1996-01-03</th>\n",
       "      <td>0.798828</td>\n",
       "      <td>0.798828</td>\n",
       "      <td>0.798828</td>\n",
       "      <td>0.798828</td>\n",
       "      <td>102400.0</td>\n",
       "    </tr>\n",
       "    <tr>\n",
       "      <th>1996-01-04</th>\n",
       "      <td>0.791015</td>\n",
       "      <td>0.794921</td>\n",
       "      <td>0.791015</td>\n",
       "      <td>0.793554</td>\n",
       "      <td>307200.0</td>\n",
       "    </tr>\n",
       "    <tr>\n",
       "      <th>1996-01-05</th>\n",
       "      <td>0.784179</td>\n",
       "      <td>0.784179</td>\n",
       "      <td>0.784179</td>\n",
       "      <td>0.784179</td>\n",
       "      <td>51200.0</td>\n",
       "    </tr>\n",
       "    <tr>\n",
       "      <th>...</th>\n",
       "      <td>...</td>\n",
       "      <td>...</td>\n",
       "      <td>...</td>\n",
       "      <td>...</td>\n",
       "      <td>...</td>\n",
       "    </tr>\n",
       "    <tr>\n",
       "      <th>2021-10-12</th>\n",
       "      <td>1677.000000</td>\n",
       "      <td>1689.000000</td>\n",
       "      <td>1662.000000</td>\n",
       "      <td>1685.150024</td>\n",
       "      <td>7439300.0</td>\n",
       "    </tr>\n",
       "    <tr>\n",
       "      <th>2021-10-13</th>\n",
       "      <td>1695.949951</td>\n",
       "      <td>1713.650024</td>\n",
       "      <td>1680.050049</td>\n",
       "      <td>1709.199951</td>\n",
       "      <td>7104171.0</td>\n",
       "    </tr>\n",
       "    <tr>\n",
       "      <th>2021-10-14</th>\n",
       "      <td>1754.000000</td>\n",
       "      <td>1783.599976</td>\n",
       "      <td>1698.199951</td>\n",
       "      <td>1715.750000</td>\n",
       "      <td>19655776.0</td>\n",
       "    </tr>\n",
       "    <tr>\n",
       "      <th>2021-10-18</th>\n",
       "      <td>1740.000000</td>\n",
       "      <td>1799.000000</td>\n",
       "      <td>1740.000000</td>\n",
       "      <td>1792.150024</td>\n",
       "      <td>13438109.0</td>\n",
       "    </tr>\n",
       "    <tr>\n",
       "      <th>2021-10-19</th>\n",
       "      <td>1814.000000</td>\n",
       "      <td>1834.500000</td>\n",
       "      <td>1782.300049</td>\n",
       "      <td>1822.150024</td>\n",
       "      <td>10324260.0</td>\n",
       "    </tr>\n",
       "  </tbody>\n",
       "</table>\n",
       "<p>6487 rows × 5 columns</p>\n",
       "</div>"
      ],
      "text/plain": [
       "                   Open         High          Low        Close      Volume\n",
       "Date                                                                      \n",
       "1996-01-01     0.794921     0.796679     0.791015     0.796679    204800.0\n",
       "1996-01-02     0.794921     0.798828     0.793457     0.793457    204800.0\n",
       "1996-01-03     0.798828     0.798828     0.798828     0.798828    102400.0\n",
       "1996-01-04     0.791015     0.794921     0.791015     0.793554    307200.0\n",
       "1996-01-05     0.784179     0.784179     0.784179     0.784179     51200.0\n",
       "...                 ...          ...          ...          ...         ...\n",
       "2021-10-12  1677.000000  1689.000000  1662.000000  1685.150024   7439300.0\n",
       "2021-10-13  1695.949951  1713.650024  1680.050049  1709.199951   7104171.0\n",
       "2021-10-14  1754.000000  1783.599976  1698.199951  1715.750000  19655776.0\n",
       "2021-10-18  1740.000000  1799.000000  1740.000000  1792.150024  13438109.0\n",
       "2021-10-19  1814.000000  1834.500000  1782.300049  1822.150024  10324260.0\n",
       "\n",
       "[6487 rows x 5 columns]"
      ]
     },
     "execution_count": 18,
     "metadata": {},
     "output_type": "execute_result"
    }
   ],
   "source": [
    "rd1"
   ]
  },
  {
   "cell_type": "code",
   "execution_count": 11,
   "id": "d2ec03a5",
   "metadata": {},
   "outputs": [],
   "source": [
    "rd2\n",
    "rd2=rd2.dropna()"
   ]
  },
  {
   "cell_type": "code",
   "execution_count": 12,
   "id": "8067ae41",
   "metadata": {},
   "outputs": [
    {
     "data": {
      "text/html": [
       "<div>\n",
       "<style scoped>\n",
       "    .dataframe tbody tr th:only-of-type {\n",
       "        vertical-align: middle;\n",
       "    }\n",
       "\n",
       "    .dataframe tbody tr th {\n",
       "        vertical-align: top;\n",
       "    }\n",
       "\n",
       "    .dataframe thead th {\n",
       "        text-align: right;\n",
       "    }\n",
       "</style>\n",
       "<table border=\"1\" class=\"dataframe\">\n",
       "  <thead>\n",
       "    <tr style=\"text-align: right;\">\n",
       "      <th></th>\n",
       "      <th>Open</th>\n",
       "      <th>High</th>\n",
       "      <th>Low</th>\n",
       "      <th>Close</th>\n",
       "      <th>Volume</th>\n",
       "      <th>Tomorrow</th>\n",
       "      <th>Target</th>\n",
       "    </tr>\n",
       "    <tr>\n",
       "      <th>Date</th>\n",
       "      <th></th>\n",
       "      <th></th>\n",
       "      <th></th>\n",
       "      <th></th>\n",
       "      <th></th>\n",
       "      <th></th>\n",
       "      <th></th>\n",
       "    </tr>\n",
       "  </thead>\n",
       "  <tbody>\n",
       "    <tr>\n",
       "      <th>1996-01-01</th>\n",
       "      <td>0.794921</td>\n",
       "      <td>0.796679</td>\n",
       "      <td>0.791015</td>\n",
       "      <td>0.796679</td>\n",
       "      <td>204800.0</td>\n",
       "      <td>0.793457</td>\n",
       "      <td>0</td>\n",
       "    </tr>\n",
       "    <tr>\n",
       "      <th>1996-01-02</th>\n",
       "      <td>0.794921</td>\n",
       "      <td>0.798828</td>\n",
       "      <td>0.793457</td>\n",
       "      <td>0.793457</td>\n",
       "      <td>204800.0</td>\n",
       "      <td>0.798828</td>\n",
       "      <td>1</td>\n",
       "    </tr>\n",
       "    <tr>\n",
       "      <th>1996-01-03</th>\n",
       "      <td>0.798828</td>\n",
       "      <td>0.798828</td>\n",
       "      <td>0.798828</td>\n",
       "      <td>0.798828</td>\n",
       "      <td>102400.0</td>\n",
       "      <td>0.793554</td>\n",
       "      <td>0</td>\n",
       "    </tr>\n",
       "    <tr>\n",
       "      <th>1996-01-04</th>\n",
       "      <td>0.791015</td>\n",
       "      <td>0.794921</td>\n",
       "      <td>0.791015</td>\n",
       "      <td>0.793554</td>\n",
       "      <td>307200.0</td>\n",
       "      <td>0.784179</td>\n",
       "      <td>0</td>\n",
       "    </tr>\n",
       "    <tr>\n",
       "      <th>1996-01-05</th>\n",
       "      <td>0.784179</td>\n",
       "      <td>0.784179</td>\n",
       "      <td>0.784179</td>\n",
       "      <td>0.784179</td>\n",
       "      <td>51200.0</td>\n",
       "      <td>0.789062</td>\n",
       "      <td>1</td>\n",
       "    </tr>\n",
       "    <tr>\n",
       "      <th>...</th>\n",
       "      <td>...</td>\n",
       "      <td>...</td>\n",
       "      <td>...</td>\n",
       "      <td>...</td>\n",
       "      <td>...</td>\n",
       "      <td>...</td>\n",
       "      <td>...</td>\n",
       "    </tr>\n",
       "    <tr>\n",
       "      <th>2021-10-12</th>\n",
       "      <td>1677.000000</td>\n",
       "      <td>1689.000000</td>\n",
       "      <td>1662.000000</td>\n",
       "      <td>1685.150024</td>\n",
       "      <td>7439300.0</td>\n",
       "      <td>1709.199951</td>\n",
       "      <td>1</td>\n",
       "    </tr>\n",
       "    <tr>\n",
       "      <th>2021-10-13</th>\n",
       "      <td>1695.949951</td>\n",
       "      <td>1713.650024</td>\n",
       "      <td>1680.050049</td>\n",
       "      <td>1709.199951</td>\n",
       "      <td>7104171.0</td>\n",
       "      <td>1715.750000</td>\n",
       "      <td>1</td>\n",
       "    </tr>\n",
       "    <tr>\n",
       "      <th>2021-10-14</th>\n",
       "      <td>1754.000000</td>\n",
       "      <td>1783.599976</td>\n",
       "      <td>1698.199951</td>\n",
       "      <td>1715.750000</td>\n",
       "      <td>19655776.0</td>\n",
       "      <td>1792.150024</td>\n",
       "      <td>1</td>\n",
       "    </tr>\n",
       "    <tr>\n",
       "      <th>2021-10-18</th>\n",
       "      <td>1740.000000</td>\n",
       "      <td>1799.000000</td>\n",
       "      <td>1740.000000</td>\n",
       "      <td>1792.150024</td>\n",
       "      <td>13438109.0</td>\n",
       "      <td>1822.150024</td>\n",
       "      <td>1</td>\n",
       "    </tr>\n",
       "    <tr>\n",
       "      <th>2021-10-19</th>\n",
       "      <td>1814.000000</td>\n",
       "      <td>1834.500000</td>\n",
       "      <td>1782.300049</td>\n",
       "      <td>1822.150024</td>\n",
       "      <td>10324260.0</td>\n",
       "      <td>NaN</td>\n",
       "      <td>0</td>\n",
       "    </tr>\n",
       "  </tbody>\n",
       "</table>\n",
       "<p>6487 rows × 7 columns</p>\n",
       "</div>"
      ],
      "text/plain": [
       "                   Open         High          Low        Close      Volume  \\\n",
       "Date                                                                         \n",
       "1996-01-01     0.794921     0.796679     0.791015     0.796679    204800.0   \n",
       "1996-01-02     0.794921     0.798828     0.793457     0.793457    204800.0   \n",
       "1996-01-03     0.798828     0.798828     0.798828     0.798828    102400.0   \n",
       "1996-01-04     0.791015     0.794921     0.791015     0.793554    307200.0   \n",
       "1996-01-05     0.784179     0.784179     0.784179     0.784179     51200.0   \n",
       "...                 ...          ...          ...          ...         ...   \n",
       "2021-10-12  1677.000000  1689.000000  1662.000000  1685.150024   7439300.0   \n",
       "2021-10-13  1695.949951  1713.650024  1680.050049  1709.199951   7104171.0   \n",
       "2021-10-14  1754.000000  1783.599976  1698.199951  1715.750000  19655776.0   \n",
       "2021-10-18  1740.000000  1799.000000  1740.000000  1792.150024  13438109.0   \n",
       "2021-10-19  1814.000000  1834.500000  1782.300049  1822.150024  10324260.0   \n",
       "\n",
       "               Tomorrow  Target  \n",
       "Date                             \n",
       "1996-01-01     0.793457       0  \n",
       "1996-01-02     0.798828       1  \n",
       "1996-01-03     0.793554       0  \n",
       "1996-01-04     0.784179       0  \n",
       "1996-01-05     0.789062       1  \n",
       "...                 ...     ...  \n",
       "2021-10-12  1709.199951       1  \n",
       "2021-10-13  1715.750000       1  \n",
       "2021-10-14  1792.150024       1  \n",
       "2021-10-18  1822.150024       1  \n",
       "2021-10-19          NaN       0  \n",
       "\n",
       "[6487 rows x 7 columns]"
      ]
     },
     "execution_count": 12,
     "metadata": {},
     "output_type": "execute_result"
    }
   ],
   "source": [
    "rd2[\"Tomorrow\"]=rd2[\"Close\"].shift(-1)\n",
    "del rd2[\"Adj Close\"]\n",
    "rd2[\"Target\"]=(rd2[\"Tomorrow\"]>rd2[\"Close\"]).astype(int)\n",
    "rd2"
   ]
  },
  {
   "cell_type": "code",
   "execution_count": 54,
   "id": "633b6123",
   "metadata": {},
   "outputs": [],
   "source": [
    "rd2=rd2.dropna()"
   ]
  },
  {
   "cell_type": "code",
   "execution_count": 73,
   "id": "dbdfe153",
   "metadata": {},
   "outputs": [],
   "source": [
    "rd2\n",
    "rd3=rd2.copy()"
   ]
  },
  {
   "cell_type": "code",
   "execution_count": 56,
   "id": "effc60ed",
   "metadata": {},
   "outputs": [],
   "source": [
    "X=rd2[['Open','Close','High','Low','Volume']]\n",
    "Y=rd2['Tomorrow']\n"
   ]
  },
  {
   "cell_type": "code",
   "execution_count": 65,
   "id": "10fc2b9a",
   "metadata": {},
   "outputs": [],
   "source": [
    "from sklearn.model_selection import train_test_split\n"
   ]
  },
  {
   "cell_type": "code",
   "execution_count": 44,
   "id": "bdfb9a4c",
   "metadata": {},
   "outputs": [],
   "source": [
    "X_train, X_test, y_train, y_test = train_test_split(X, Y, test_size=0.4, random_state=1) "
   ]
  },
  {
   "cell_type": "code",
   "execution_count": 66,
   "id": "3171ab80",
   "metadata": {},
   "outputs": [],
   "source": [
    "X_train=X.iloc[:4000]"
   ]
  },
  {
   "cell_type": "code",
   "execution_count": 67,
   "id": "3c0d1eef",
   "metadata": {},
   "outputs": [],
   "source": [
    "X_test=X.iloc[4000 : ]\n",
    "y_train=Y.iloc[:4000]\n",
    "y_test=Y.iloc[4000 : ]\n"
   ]
  },
  {
   "cell_type": "code",
   "execution_count": 68,
   "id": "7297d2f2",
   "metadata": {},
   "outputs": [
    {
     "data": {
      "text/html": [
       "<div>\n",
       "<style scoped>\n",
       "    .dataframe tbody tr th:only-of-type {\n",
       "        vertical-align: middle;\n",
       "    }\n",
       "\n",
       "    .dataframe tbody tr th {\n",
       "        vertical-align: top;\n",
       "    }\n",
       "\n",
       "    .dataframe thead th {\n",
       "        text-align: right;\n",
       "    }\n",
       "</style>\n",
       "<table border=\"1\" class=\"dataframe\">\n",
       "  <thead>\n",
       "    <tr style=\"text-align: right;\">\n",
       "      <th></th>\n",
       "      <th>Open</th>\n",
       "      <th>Close</th>\n",
       "      <th>High</th>\n",
       "      <th>Low</th>\n",
       "      <th>Volume</th>\n",
       "    </tr>\n",
       "    <tr>\n",
       "      <th>Date</th>\n",
       "      <th></th>\n",
       "      <th></th>\n",
       "      <th></th>\n",
       "      <th></th>\n",
       "      <th></th>\n",
       "    </tr>\n",
       "  </thead>\n",
       "  <tbody>\n",
       "    <tr>\n",
       "      <th>1996-01-01</th>\n",
       "      <td>0.794921</td>\n",
       "      <td>0.796679</td>\n",
       "      <td>0.796679</td>\n",
       "      <td>0.791015</td>\n",
       "      <td>204800.0</td>\n",
       "    </tr>\n",
       "    <tr>\n",
       "      <th>1996-01-02</th>\n",
       "      <td>0.794921</td>\n",
       "      <td>0.793457</td>\n",
       "      <td>0.798828</td>\n",
       "      <td>0.793457</td>\n",
       "      <td>204800.0</td>\n",
       "    </tr>\n",
       "    <tr>\n",
       "      <th>1996-01-03</th>\n",
       "      <td>0.798828</td>\n",
       "      <td>0.798828</td>\n",
       "      <td>0.798828</td>\n",
       "      <td>0.798828</td>\n",
       "      <td>102400.0</td>\n",
       "    </tr>\n",
       "    <tr>\n",
       "      <th>1996-01-04</th>\n",
       "      <td>0.791015</td>\n",
       "      <td>0.793554</td>\n",
       "      <td>0.794921</td>\n",
       "      <td>0.791015</td>\n",
       "      <td>307200.0</td>\n",
       "    </tr>\n",
       "    <tr>\n",
       "      <th>1996-01-05</th>\n",
       "      <td>0.784179</td>\n",
       "      <td>0.784179</td>\n",
       "      <td>0.784179</td>\n",
       "      <td>0.784179</td>\n",
       "      <td>51200.0</td>\n",
       "    </tr>\n",
       "    <tr>\n",
       "      <th>...</th>\n",
       "      <td>...</td>\n",
       "      <td>...</td>\n",
       "      <td>...</td>\n",
       "      <td>...</td>\n",
       "      <td>...</td>\n",
       "    </tr>\n",
       "    <tr>\n",
       "      <th>2011-09-02</th>\n",
       "      <td>298.125000</td>\n",
       "      <td>289.899994</td>\n",
       "      <td>298.125000</td>\n",
       "      <td>284.412506</td>\n",
       "      <td>14960904.0</td>\n",
       "    </tr>\n",
       "    <tr>\n",
       "      <th>2011-09-05</th>\n",
       "      <td>286.712494</td>\n",
       "      <td>283.137512</td>\n",
       "      <td>286.712494</td>\n",
       "      <td>280.024994</td>\n",
       "      <td>10902544.0</td>\n",
       "    </tr>\n",
       "    <tr>\n",
       "      <th>2011-09-06</th>\n",
       "      <td>281.737488</td>\n",
       "      <td>287.818756</td>\n",
       "      <td>290.000000</td>\n",
       "      <td>277.781250</td>\n",
       "      <td>10816696.0</td>\n",
       "    </tr>\n",
       "    <tr>\n",
       "      <th>2011-09-07</th>\n",
       "      <td>287.237488</td>\n",
       "      <td>286.431244</td>\n",
       "      <td>289.287506</td>\n",
       "      <td>283.456238</td>\n",
       "      <td>13157432.0</td>\n",
       "    </tr>\n",
       "    <tr>\n",
       "      <th>2011-09-08</th>\n",
       "      <td>287.500000</td>\n",
       "      <td>292.306244</td>\n",
       "      <td>294.250000</td>\n",
       "      <td>287.375000</td>\n",
       "      <td>11027872.0</td>\n",
       "    </tr>\n",
       "  </tbody>\n",
       "</table>\n",
       "<p>4000 rows × 5 columns</p>\n",
       "</div>"
      ],
      "text/plain": [
       "                  Open       Close        High         Low      Volume\n",
       "Date                                                                  \n",
       "1996-01-01    0.794921    0.796679    0.796679    0.791015    204800.0\n",
       "1996-01-02    0.794921    0.793457    0.798828    0.793457    204800.0\n",
       "1996-01-03    0.798828    0.798828    0.798828    0.798828    102400.0\n",
       "1996-01-04    0.791015    0.793554    0.794921    0.791015    307200.0\n",
       "1996-01-05    0.784179    0.784179    0.784179    0.784179     51200.0\n",
       "...                ...         ...         ...         ...         ...\n",
       "2011-09-02  298.125000  289.899994  298.125000  284.412506  14960904.0\n",
       "2011-09-05  286.712494  283.137512  286.712494  280.024994  10902544.0\n",
       "2011-09-06  281.737488  287.818756  290.000000  277.781250  10816696.0\n",
       "2011-09-07  287.237488  286.431244  289.287506  283.456238  13157432.0\n",
       "2011-09-08  287.500000  292.306244  294.250000  287.375000  11027872.0\n",
       "\n",
       "[4000 rows x 5 columns]"
      ]
     },
     "execution_count": 68,
     "metadata": {},
     "output_type": "execute_result"
    }
   ],
   "source": [
    "X_train"
   ]
  },
  {
   "cell_type": "raw",
   "id": "49d5a7fb",
   "metadata": {},
   "source": [
    "X_test"
   ]
  },
  {
   "cell_type": "code",
   "execution_count": 69,
   "id": "bd8c47bb",
   "metadata": {},
   "outputs": [
    {
     "data": {
      "text/html": [
       "<style>#sk-container-id-6 {color: black;background-color: white;}#sk-container-id-6 pre{padding: 0;}#sk-container-id-6 div.sk-toggleable {background-color: white;}#sk-container-id-6 label.sk-toggleable__label {cursor: pointer;display: block;width: 100%;margin-bottom: 0;padding: 0.3em;box-sizing: border-box;text-align: center;}#sk-container-id-6 label.sk-toggleable__label-arrow:before {content: \"▸\";float: left;margin-right: 0.25em;color: #696969;}#sk-container-id-6 label.sk-toggleable__label-arrow:hover:before {color: black;}#sk-container-id-6 div.sk-estimator:hover label.sk-toggleable__label-arrow:before {color: black;}#sk-container-id-6 div.sk-toggleable__content {max-height: 0;max-width: 0;overflow: hidden;text-align: left;background-color: #f0f8ff;}#sk-container-id-6 div.sk-toggleable__content pre {margin: 0.2em;color: black;border-radius: 0.25em;background-color: #f0f8ff;}#sk-container-id-6 input.sk-toggleable__control:checked~div.sk-toggleable__content {max-height: 200px;max-width: 100%;overflow: auto;}#sk-container-id-6 input.sk-toggleable__control:checked~label.sk-toggleable__label-arrow:before {content: \"▾\";}#sk-container-id-6 div.sk-estimator input.sk-toggleable__control:checked~label.sk-toggleable__label {background-color: #d4ebff;}#sk-container-id-6 div.sk-label input.sk-toggleable__control:checked~label.sk-toggleable__label {background-color: #d4ebff;}#sk-container-id-6 input.sk-hidden--visually {border: 0;clip: rect(1px 1px 1px 1px);clip: rect(1px, 1px, 1px, 1px);height: 1px;margin: -1px;overflow: hidden;padding: 0;position: absolute;width: 1px;}#sk-container-id-6 div.sk-estimator {font-family: monospace;background-color: #f0f8ff;border: 1px dotted black;border-radius: 0.25em;box-sizing: border-box;margin-bottom: 0.5em;}#sk-container-id-6 div.sk-estimator:hover {background-color: #d4ebff;}#sk-container-id-6 div.sk-parallel-item::after {content: \"\";width: 100%;border-bottom: 1px solid gray;flex-grow: 1;}#sk-container-id-6 div.sk-label:hover label.sk-toggleable__label {background-color: #d4ebff;}#sk-container-id-6 div.sk-serial::before {content: \"\";position: absolute;border-left: 1px solid gray;box-sizing: border-box;top: 0;bottom: 0;left: 50%;z-index: 0;}#sk-container-id-6 div.sk-serial {display: flex;flex-direction: column;align-items: center;background-color: white;padding-right: 0.2em;padding-left: 0.2em;position: relative;}#sk-container-id-6 div.sk-item {position: relative;z-index: 1;}#sk-container-id-6 div.sk-parallel {display: flex;align-items: stretch;justify-content: center;background-color: white;position: relative;}#sk-container-id-6 div.sk-item::before, #sk-container-id-6 div.sk-parallel-item::before {content: \"\";position: absolute;border-left: 1px solid gray;box-sizing: border-box;top: 0;bottom: 0;left: 50%;z-index: -1;}#sk-container-id-6 div.sk-parallel-item {display: flex;flex-direction: column;z-index: 1;position: relative;background-color: white;}#sk-container-id-6 div.sk-parallel-item:first-child::after {align-self: flex-end;width: 50%;}#sk-container-id-6 div.sk-parallel-item:last-child::after {align-self: flex-start;width: 50%;}#sk-container-id-6 div.sk-parallel-item:only-child::after {width: 0;}#sk-container-id-6 div.sk-dashed-wrapped {border: 1px dashed gray;margin: 0 0.4em 0.5em 0.4em;box-sizing: border-box;padding-bottom: 0.4em;background-color: white;}#sk-container-id-6 div.sk-label label {font-family: monospace;font-weight: bold;display: inline-block;line-height: 1.2em;}#sk-container-id-6 div.sk-label-container {text-align: center;}#sk-container-id-6 div.sk-container {/* jupyter's `normalize.less` sets `[hidden] { display: none; }` but bootstrap.min.css set `[hidden] { display: none !important; }` so we also need the `!important` here to be able to override the default hidden behavior on the sphinx rendered scikit-learn.org. See: https://github.com/scikit-learn/scikit-learn/issues/21755 */display: inline-block !important;position: relative;}#sk-container-id-6 div.sk-text-repr-fallback {display: none;}</style><div id=\"sk-container-id-6\" class=\"sk-top-container\"><div class=\"sk-text-repr-fallback\"><pre>LinearRegression()</pre><b>In a Jupyter environment, please rerun this cell to show the HTML representation or trust the notebook. <br />On GitHub, the HTML representation is unable to render, please try loading this page with nbviewer.org.</b></div><div class=\"sk-container\" hidden><div class=\"sk-item\"><div class=\"sk-estimator sk-toggleable\"><input class=\"sk-toggleable__control sk-hidden--visually\" id=\"sk-estimator-id-6\" type=\"checkbox\" checked><label for=\"sk-estimator-id-6\" class=\"sk-toggleable__label sk-toggleable__label-arrow\">LinearRegression</label><div class=\"sk-toggleable__content\"><pre>LinearRegression()</pre></div></div></div></div></div>"
      ],
      "text/plain": [
       "LinearRegression()"
      ]
     },
     "execution_count": 69,
     "metadata": {},
     "output_type": "execute_result"
    }
   ],
   "source": [
    "from sklearn.linear_model import LinearRegression \n",
    "\n",
    "lm = LinearRegression() \n",
    "\n",
    "lm.fit(X_train,y_train) "
   ]
  },
  {
   "cell_type": "code",
   "execution_count": 70,
   "id": "d78c3d01",
   "metadata": {},
   "outputs": [
    {
     "name": "stdout",
     "output_type": "stream",
     "text": [
      "0.2530950570888706\n"
     ]
    }
   ],
   "source": [
    "print(lm.intercept_)\n",
    "#coeff_df = pd.DataFrame(lm.coef_,X.columns,columns=['Coefficient']) coeff_df"
   ]
  },
  {
   "cell_type": "code",
   "execution_count": 71,
   "id": "8b58e9ab",
   "metadata": {},
   "outputs": [],
   "source": [
    "predictions = lm.predict(X_test)  "
   ]
  },
  {
   "cell_type": "code",
   "execution_count": 72,
   "id": "fa2ade5b",
   "metadata": {},
   "outputs": [
    {
     "data": {
      "text/plain": [
       "0.9986929196100015"
      ]
     },
     "execution_count": 72,
     "metadata": {},
     "output_type": "execute_result"
    }
   ],
   "source": [
    "lm.score(X_test,y_test)"
   ]
  },
  {
   "cell_type": "code",
   "execution_count": 52,
   "id": "dfc0176a",
   "metadata": {},
   "outputs": [
    {
     "data": {
      "text/plain": [
       "<matplotlib.collections.PathCollection at 0x1cc8b9c6170>"
      ]
     },
     "execution_count": 52,
     "metadata": {},
     "output_type": "execute_result"
    },
    {
     "data": {
      "image/png": "[encoded data removed]",
      "text/plain": [
       "<Figure size 640x480 with 1 Axes>"
      ]
     },
     "metadata": {},
     "output_type": "display_data"
    }
   ],
   "source": [
    "plt.scatter(y_test,predictions)"
   ]
  },
  {
   "cell_type": "code",
   "execution_count": 68,
   "id": "ea1609e4",
   "metadata": {},
   "outputs": [
    {
     "data": {
      "image/png": "[encoded data removed]",
      "text/plain": [
       "<Figure size 500x500 with 1 Axes>"
      ]
     },
     "metadata": {},
     "output_type": "display_data"
    }
   ],
   "source": [
    "import seaborn as sns\n",
    "\n",
    "sns.displot((y_test-predictions),bins=50); "
   ]
  },
  {
   "cell_type": "code",
   "execution_count": 47,
   "id": "d4883241",
   "metadata": {},
   "outputs": [],
   "source": [
    "import numpy as np"
   ]
  },
  {
   "cell_type": "code",
   "execution_count": 69,
   "id": "76cb99f6",
   "metadata": {},
   "outputs": [
    {
     "name": "stdout",
     "output_type": "stream",
     "text": [
      "MAE: 4.251171615889197\n",
      "MSE: 62.407852012356265\n",
      "RMSE: 7.899864050245186\n"
     ]
    }
   ],
   "source": [
    "from sklearn import metrics\n",
    "\n",
    "print('MAE:', metrics.mean_absolute_error(y_test, predictions)) \n",
    "print('MSE:', metrics.mean_squared_error(y_test, predictions)) \n",
    "print('RMSE:', np.sqrt(metrics.mean_squared_error(y_test, predictions))) "
   ]
  },
  {
   "cell_type": "markdown",
   "id": "eb3c59c7",
   "metadata": {},
   "source": [
    "\n",
    "\n",
    "\n",
    "\n",
    "## Logistic Regression\n",
    "\n",
    "\n",
    "\n",
    "\n"
   ]
  },
  {
   "cell_type": "code",
   "execution_count": 81,
   "id": "c7befbec",
   "metadata": {},
   "outputs": [],
   "source": [
    "from sklearn.linear_model import LogisticRegression"
   ]
  },
  {
   "cell_type": "code",
   "execution_count": 75,
   "id": "d89d41db",
   "metadata": {},
   "outputs": [],
   "source": [
    "lr=LogisticRegression()"
   ]
  },
  {
   "cell_type": "code",
   "execution_count": 77,
   "id": "05017ccb",
   "metadata": {},
   "outputs": [],
   "source": [
    "X=rd3[['Open','Close','High','Low','Volume']]\n",
    "Y=rd3['Target']"
   ]
  },
  {
   "cell_type": "code",
   "execution_count": 78,
   "id": "6a2cc218",
   "metadata": {},
   "outputs": [],
   "source": [
    "X_train=X.iloc[:4000]\n",
    "X_test=X.iloc[4000 : ]\n",
    "y_train=Y.iloc[:4000]\n",
    "y_test=Y.iloc[4000 : ]\n"
   ]
  },
  {
   "cell_type": "code",
   "execution_count": 79,
   "id": "a8de5563",
   "metadata": {},
   "outputs": [
    {
     "data": {
      "text/html": [
       "<style>#sk-container-id-7 {color: black;background-color: white;}#sk-container-id-7 pre{padding: 0;}#sk-container-id-7 div.sk-toggleable {background-color: white;}#sk-container-id-7 label.sk-toggleable__label {cursor: pointer;display: block;width: 100%;margin-bottom: 0;padding: 0.3em;box-sizing: border-box;text-align: center;}#sk-container-id-7 label.sk-toggleable__label-arrow:before {content: \"▸\";float: left;margin-right: 0.25em;color: #696969;}#sk-container-id-7 label.sk-toggleable__label-arrow:hover:before {color: black;}#sk-container-id-7 div.sk-estimator:hover label.sk-toggleable__label-arrow:before {color: black;}#sk-container-id-7 div.sk-toggleable__content {max-height: 0;max-width: 0;overflow: hidden;text-align: left;background-color: #f0f8ff;}#sk-container-id-7 div.sk-toggleable__content pre {margin: 0.2em;color: black;border-radius: 0.25em;background-color: #f0f8ff;}#sk-container-id-7 input.sk-toggleable__control:checked~div.sk-toggleable__content {max-height: 200px;max-width: 100%;overflow: auto;}#sk-container-id-7 input.sk-toggleable__control:checked~label.sk-toggleable__label-arrow:before {content: \"▾\";}#sk-container-id-7 div.sk-estimator input.sk-toggleable__control:checked~label.sk-toggleable__label {background-color: #d4ebff;}#sk-container-id-7 div.sk-label input.sk-toggleable__control:checked~label.sk-toggleable__label {background-color: #d4ebff;}#sk-container-id-7 input.sk-hidden--visually {border: 0;clip: rect(1px 1px 1px 1px);clip: rect(1px, 1px, 1px, 1px);height: 1px;margin: -1px;overflow: hidden;padding: 0;position: absolute;width: 1px;}#sk-container-id-7 div.sk-estimator {font-family: monospace;background-color: #f0f8ff;border: 1px dotted black;border-radius: 0.25em;box-sizing: border-box;margin-bottom: 0.5em;}#sk-container-id-7 div.sk-estimator:hover {background-color: #d4ebff;}#sk-container-id-7 div.sk-parallel-item::after {content: \"\";width: 100%;border-bottom: 1px solid gray;flex-grow: 1;}#sk-container-id-7 div.sk-label:hover label.sk-toggleable__label {background-color: #d4ebff;}#sk-container-id-7 div.sk-serial::before {content: \"\";position: absolute;border-left: 1px solid gray;box-sizing: border-box;top: 0;bottom: 0;left: 50%;z-index: 0;}#sk-container-id-7 div.sk-serial {display: flex;flex-direction: column;align-items: center;background-color: white;padding-right: 0.2em;padding-left: 0.2em;position: relative;}#sk-container-id-7 div.sk-item {position: relative;z-index: 1;}#sk-container-id-7 div.sk-parallel {display: flex;align-items: stretch;justify-content: center;background-color: white;position: relative;}#sk-container-id-7 div.sk-item::before, #sk-container-id-7 div.sk-parallel-item::before {content: \"\";position: absolute;border-left: 1px solid gray;box-sizing: border-box;top: 0;bottom: 0;left: 50%;z-index: -1;}#sk-container-id-7 div.sk-parallel-item {display: flex;flex-direction: column;z-index: 1;position: relative;background-color: white;}#sk-container-id-7 div.sk-parallel-item:first-child::after {align-self: flex-end;width: 50%;}#sk-container-id-7 div.sk-parallel-item:last-child::after {align-self: flex-start;width: 50%;}#sk-container-id-7 div.sk-parallel-item:only-child::after {width: 0;}#sk-container-id-7 div.sk-dashed-wrapped {border: 1px dashed gray;margin: 0 0.4em 0.5em 0.4em;box-sizing: border-box;padding-bottom: 0.4em;background-color: white;}#sk-container-id-7 div.sk-label label {font-family: monospace;font-weight: bold;display: inline-block;line-height: 1.2em;}#sk-container-id-7 div.sk-label-container {text-align: center;}#sk-container-id-7 div.sk-container {/* jupyter's `normalize.less` sets `[hidden] { display: none; }` but bootstrap.min.css set `[hidden] { display: none !important; }` so we also need the `!important` here to be able to override the default hidden behavior on the sphinx rendered scikit-learn.org. See: https://github.com/scikit-learn/scikit-learn/issues/21755 */display: inline-block !important;position: relative;}#sk-container-id-7 div.sk-text-repr-fallback {display: none;}</style><div id=\"sk-container-id-7\" class=\"sk-top-container\"><div class=\"sk-text-repr-fallback\"><pre>LogisticRegression()</pre><b>In a Jupyter environment, please rerun this cell to show the HTML representation or trust the notebook. <br />On GitHub, the HTML representation is unable to render, please try loading this page with nbviewer.org.</b></div><div class=\"sk-container\" hidden><div class=\"sk-item\"><div class=\"sk-estimator sk-toggleable\"><input class=\"sk-toggleable__control sk-hidden--visually\" id=\"sk-estimator-id-7\" type=\"checkbox\" checked><label for=\"sk-estimator-id-7\" class=\"sk-toggleable__label sk-toggleable__label-arrow\">LogisticRegression</label><div class=\"sk-toggleable__content\"><pre>LogisticRegression()</pre></div></div></div></div></div>"
      ],
      "text/plain": [
       "LogisticRegression()"
      ]
     },
     "execution_count": 79,
     "metadata": {},
     "output_type": "execute_result"
    }
   ],
   "source": [
    "lr.fit(X_train,y_train)"
   ]
  },
  {
   "cell_type": "code",
   "execution_count": 80,
   "id": "523ffb72",
   "metadata": {},
   "outputs": [
    {
     "data": {
      "text/plain": [
       "0.47264682220434434"
      ]
     },
     "execution_count": 80,
     "metadata": {},
     "output_type": "execute_result"
    }
   ],
   "source": [
    "lr.score(X_test,y_test)"
   ]
  },
  {
   "cell_type": "code",
   "execution_count": 82,
   "id": "195e91f3",
   "metadata": {},
   "outputs": [],
   "source": [
    "from sklearn.ensemble import  RandomForestClassifier\n",
    "from sklearn.metrics import precaision_score"
   ]
  },
  {
   "cell_type": "code",
   "execution_count": 106,
   "id": "f600e44f",
   "metadata": {},
   "outputs": [],
   "source": [
    "rfc=RandomForestClassifier(n_estimators=100)"
   ]
  },
  {
   "cell_type": "code",
   "execution_count": 107,
   "id": "cdb68b2b",
   "metadata": {},
   "outputs": [
    {
     "data": {
      "text/html": [
       "<style>#sk-container-id-15 {color: black;background-color: white;}#sk-container-id-15 pre{padding: 0;}#sk-container-id-15 div.sk-toggleable {background-color: white;}#sk-container-id-15 label.sk-toggleable__label {cursor: pointer;display: block;width: 100%;margin-bottom: 0;padding: 0.3em;box-sizing: border-box;text-align: center;}#sk-container-id-15 label.sk-toggleable__label-arrow:before {content: \"▸\";float: left;margin-right: 0.25em;color: #696969;}#sk-container-id-15 label.sk-toggleable__label-arrow:hover:before {color: black;}#sk-container-id-15 div.sk-estimator:hover label.sk-toggleable__label-arrow:before {color: black;}#sk-container-id-15 div.sk-toggleable__content {max-height: 0;max-width: 0;overflow: hidden;text-align: left;background-color: #f0f8ff;}#sk-container-id-15 div.sk-toggleable__content pre {margin: 0.2em;color: black;border-radius: 0.25em;background-color: #f0f8ff;}#sk-container-id-15 input.sk-toggleable__control:checked~div.sk-toggleable__content {max-height: 200px;max-width: 100%;overflow: auto;}#sk-container-id-15 input.sk-toggleable__control:checked~label.sk-toggleable__label-arrow:before {content: \"▾\";}#sk-container-id-15 div.sk-estimator input.sk-toggleable__control:checked~label.sk-toggleable__label {background-color: #d4ebff;}#sk-container-id-15 div.sk-label input.sk-toggleable__control:checked~label.sk-toggleable__label {background-color: #d4ebff;}#sk-container-id-15 input.sk-hidden--visually {border: 0;clip: rect(1px 1px 1px 1px);clip: rect(1px, 1px, 1px, 1px);height: 1px;margin: -1px;overflow: hidden;padding: 0;position: absolute;width: 1px;}#sk-container-id-15 div.sk-estimator {font-family: monospace;background-color: #f0f8ff;border: 1px dotted black;border-radius: 0.25em;box-sizing: border-box;margin-bottom: 0.5em;}#sk-container-id-15 div.sk-estimator:hover {background-color: #d4ebff;}#sk-container-id-15 div.sk-parallel-item::after {content: \"\";width: 100%;border-bottom: 1px solid gray;flex-grow: 1;}#sk-container-id-15 div.sk-label:hover label.sk-toggleable__label {background-color: #d4ebff;}#sk-container-id-15 div.sk-serial::before {content: \"\";position: absolute;border-left: 1px solid gray;box-sizing: border-box;top: 0;bottom: 0;left: 50%;z-index: 0;}#sk-container-id-15 div.sk-serial {display: flex;flex-direction: column;align-items: center;background-color: white;padding-right: 0.2em;padding-left: 0.2em;position: relative;}#sk-container-id-15 div.sk-item {position: relative;z-index: 1;}#sk-container-id-15 div.sk-parallel {display: flex;align-items: stretch;justify-content: center;background-color: white;position: relative;}#sk-container-id-15 div.sk-item::before, #sk-container-id-15 div.sk-parallel-item::before {content: \"\";position: absolute;border-left: 1px solid gray;box-sizing: border-box;top: 0;bottom: 0;left: 50%;z-index: -1;}#sk-container-id-15 div.sk-parallel-item {display: flex;flex-direction: column;z-index: 1;position: relative;background-color: white;}#sk-container-id-15 div.sk-parallel-item:first-child::after {align-self: flex-end;width: 50%;}#sk-container-id-15 div.sk-parallel-item:last-child::after {align-self: flex-start;width: 50%;}#sk-container-id-15 div.sk-parallel-item:only-child::after {width: 0;}#sk-container-id-15 div.sk-dashed-wrapped {border: 1px dashed gray;margin: 0 0.4em 0.5em 0.4em;box-sizing: border-box;padding-bottom: 0.4em;background-color: white;}#sk-container-id-15 div.sk-label label {font-family: monospace;font-weight: bold;display: inline-block;line-height: 1.2em;}#sk-container-id-15 div.sk-label-container {text-align: center;}#sk-container-id-15 div.sk-container {/* jupyter's `normalize.less` sets `[hidden] { display: none; }` but bootstrap.min.css set `[hidden] { display: none !important; }` so we also need the `!important` here to be able to override the default hidden behavior on the sphinx rendered scikit-learn.org. See: https://github.com/scikit-learn/scikit-learn/issues/21755 */display: inline-block !important;position: relative;}#sk-container-id-15 div.sk-text-repr-fallback {display: none;}</style><div id=\"sk-container-id-15\" class=\"sk-top-container\"><div class=\"sk-text-repr-fallback\"><pre>RandomForestClassifier()</pre><b>In a Jupyter environment, please rerun this cell to show the HTML representation or trust the notebook. <br />On GitHub, the HTML representation is unable to render, please try loading this page with nbviewer.org.</b></div><div class=\"sk-container\" hidden><div class=\"sk-item\"><div class=\"sk-estimator sk-toggleable\"><input class=\"sk-toggleable__control sk-hidden--visually\" id=\"sk-estimator-id-15\" type=\"checkbox\" checked><label for=\"sk-estimator-id-15\" class=\"sk-toggleable__label sk-toggleable__label-arrow\">RandomForestClassifier</label><div class=\"sk-toggleable__content\"><pre>RandomForestClassifier()</pre></div></div></div></div></div>"
      ],
      "text/plain": [
       "RandomForestClassifier()"
      ]
     },
     "execution_count": 107,
     "metadata": {},
     "output_type": "execute_result"
    }
   ],
   "source": [
    "rfc.fit(X_train,y_train)"
   ]
  },
  {
   "cell_type": "code",
   "execution_count": 108,
   "id": "552a8a1f",
   "metadata": {},
   "outputs": [
    {
     "data": {
      "text/plain": [
       "0.4778761061946903"
      ]
     },
     "execution_count": 108,
     "metadata": {},
     "output_type": "execute_result"
    }
   ],
   "source": [
    "rfc.score(X_test,y_test)"
   ]
  },
  {
   "cell_type": "code",
   "execution_count": 109,
   "id": "dd3721a7",
   "metadata": {},
   "outputs": [],
   "source": [
    "model =RandomForestClassifier(n_estimators=200,min_samples_split=100,random_state=1)"
   ]
  },
  {
   "cell_type": "code",
   "execution_count": 110,
   "id": "d18b2cdb",
   "metadata": {},
   "outputs": [],
   "source": [
    "train = rd3.iloc[:-200]\n",
    "test = rd3.iloc[-200:]"
   ]
  },
  {
   "cell_type": "code",
   "execution_count": 111,
   "id": "1c57428b",
   "metadata": {},
   "outputs": [
    {
     "ename": "ValueError",
     "evalue": "Boolean array expected for the condition, not float64",
     "output_type": "error",
     "traceback": [
      "\u001b[1;31m---------------------------------------------------------------------------\u001b[0m",
      "\u001b[1;31mValueError\u001b[0m                                Traceback (most recent call last)",
      "Cell \u001b[1;32mIn[111], line 1\u001b[0m\n\u001b[1;32m----> 1\u001b[0m model\u001b[38;5;241m.\u001b[39mfit(\u001b[43mtrain\u001b[49m\u001b[43m[\u001b[49m\u001b[43mX\u001b[49m\u001b[43m]\u001b[49m, train[\u001b[38;5;124m\"\u001b[39m\u001b[38;5;124mTarget\u001b[39m\u001b[38;5;124m\"\u001b[39m])\n",
      "File \u001b[1;32m~\\AppData\\Roaming\\Python\\Python310\\site-packages\\pandas\\core\\frame.py:3792\u001b[0m, in \u001b[0;36mDataFrame.__getitem__\u001b[1;34m(self, key)\u001b[0m\n\u001b[0;32m   3790\u001b[0m \u001b[38;5;66;03m# Do we have a (boolean) DataFrame?\u001b[39;00m\n\u001b[0;32m   3791\u001b[0m \u001b[38;5;28;01mif\u001b[39;00m \u001b[38;5;28misinstance\u001b[39m(key, DataFrame):\n\u001b[1;32m-> 3792\u001b[0m     \u001b[38;5;28;01mreturn\u001b[39;00m \u001b[38;5;28;43mself\u001b[39;49m\u001b[38;5;241;43m.\u001b[39;49m\u001b[43mwhere\u001b[49m\u001b[43m(\u001b[49m\u001b[43mkey\u001b[49m\u001b[43m)\u001b[49m\n\u001b[0;32m   3794\u001b[0m \u001b[38;5;66;03m# Do we have a (boolean) 1d indexer?\u001b[39;00m\n\u001b[0;32m   3795\u001b[0m \u001b[38;5;28;01mif\u001b[39;00m com\u001b[38;5;241m.\u001b[39mis_bool_indexer(key):\n",
      "File \u001b[1;32m~\\AppData\\Roaming\\Python\\Python310\\site-packages\\pandas\\util\\_decorators.py:211\u001b[0m, in \u001b[0;36mdeprecate_kwarg.<locals>._deprecate_kwarg.<locals>.wrapper\u001b[1;34m(*args, **kwargs)\u001b[0m\n\u001b[0;32m    209\u001b[0m     \u001b[38;5;28;01melse\u001b[39;00m:\n\u001b[0;32m    210\u001b[0m         kwargs[new_arg_name] \u001b[38;5;241m=\u001b[39m new_arg_value\n\u001b[1;32m--> 211\u001b[0m \u001b[38;5;28;01mreturn\u001b[39;00m func(\u001b[38;5;241m*\u001b[39margs, \u001b[38;5;241m*\u001b[39m\u001b[38;5;241m*\u001b[39mkwargs)\n",
      "File \u001b[1;32m~\\AppData\\Roaming\\Python\\Python310\\site-packages\\pandas\\util\\_decorators.py:331\u001b[0m, in \u001b[0;36mdeprecate_nonkeyword_arguments.<locals>.decorate.<locals>.wrapper\u001b[1;34m(*args, **kwargs)\u001b[0m\n\u001b[0;32m    325\u001b[0m \u001b[38;5;28;01mif\u001b[39;00m \u001b[38;5;28mlen\u001b[39m(args) \u001b[38;5;241m>\u001b[39m num_allow_args:\n\u001b[0;32m    326\u001b[0m     warnings\u001b[38;5;241m.\u001b[39mwarn(\n\u001b[0;32m    327\u001b[0m         msg\u001b[38;5;241m.\u001b[39mformat(arguments\u001b[38;5;241m=\u001b[39m_format_argument_list(allow_args)),\n\u001b[0;32m    328\u001b[0m         \u001b[38;5;167;01mFutureWarning\u001b[39;00m,\n\u001b[0;32m    329\u001b[0m         stacklevel\u001b[38;5;241m=\u001b[39mfind_stack_level(),\n\u001b[0;32m    330\u001b[0m     )\n\u001b[1;32m--> 331\u001b[0m \u001b[38;5;28;01mreturn\u001b[39;00m func(\u001b[38;5;241m*\u001b[39margs, \u001b[38;5;241m*\u001b[39m\u001b[38;5;241m*\u001b[39mkwargs)\n",
      "File \u001b[1;32m~\\AppData\\Roaming\\Python\\Python310\\site-packages\\pandas\\core\\frame.py:11920\u001b[0m, in \u001b[0;36mDataFrame.where\u001b[1;34m(self, cond, other, inplace, axis, level, errors, try_cast)\u001b[0m\n\u001b[0;32m  11906\u001b[0m \u001b[38;5;129m@deprecate_kwarg\u001b[39m(old_arg_name\u001b[38;5;241m=\u001b[39m\u001b[38;5;124m\"\u001b[39m\u001b[38;5;124merrors\u001b[39m\u001b[38;5;124m\"\u001b[39m, new_arg_name\u001b[38;5;241m=\u001b[39m\u001b[38;5;28;01mNone\u001b[39;00m)\n\u001b[0;32m  11907\u001b[0m \u001b[38;5;129m@deprecate_nonkeyword_arguments\u001b[39m(\n\u001b[0;32m  11908\u001b[0m     version\u001b[38;5;241m=\u001b[39m\u001b[38;5;28;01mNone\u001b[39;00m, allowed_args\u001b[38;5;241m=\u001b[39m[\u001b[38;5;124m\"\u001b[39m\u001b[38;5;124mself\u001b[39m\u001b[38;5;124m\"\u001b[39m, \u001b[38;5;124m\"\u001b[39m\u001b[38;5;124mcond\u001b[39m\u001b[38;5;124m\"\u001b[39m, \u001b[38;5;124m\"\u001b[39m\u001b[38;5;124mother\u001b[39m\u001b[38;5;124m\"\u001b[39m]\n\u001b[1;32m   (...)\u001b[0m\n\u001b[0;32m  11918\u001b[0m     try_cast: \u001b[38;5;28mbool\u001b[39m \u001b[38;5;241m|\u001b[39m lib\u001b[38;5;241m.\u001b[39mNoDefault \u001b[38;5;241m=\u001b[39m lib\u001b[38;5;241m.\u001b[39mno_default,\n\u001b[0;32m  11919\u001b[0m ) \u001b[38;5;241m-\u001b[39m\u001b[38;5;241m>\u001b[39m DataFrame \u001b[38;5;241m|\u001b[39m \u001b[38;5;28;01mNone\u001b[39;00m:\n\u001b[1;32m> 11920\u001b[0m     \u001b[38;5;28;01mreturn\u001b[39;00m \u001b[38;5;28;43msuper\u001b[39;49m\u001b[43m(\u001b[49m\u001b[43m)\u001b[49m\u001b[38;5;241;43m.\u001b[39;49m\u001b[43mwhere\u001b[49m\u001b[43m(\u001b[49m\n\u001b[0;32m  11921\u001b[0m \u001b[43m        \u001b[49m\u001b[43mcond\u001b[49m\u001b[43m,\u001b[49m\n\u001b[0;32m  11922\u001b[0m \u001b[43m        \u001b[49m\u001b[43mother\u001b[49m\u001b[43m,\u001b[49m\n\u001b[0;32m  11923\u001b[0m \u001b[43m        \u001b[49m\u001b[43minplace\u001b[49m\u001b[38;5;241;43m=\u001b[39;49m\u001b[43minplace\u001b[49m\u001b[43m,\u001b[49m\n\u001b[0;32m  11924\u001b[0m \u001b[43m        \u001b[49m\u001b[43maxis\u001b[49m\u001b[38;5;241;43m=\u001b[39;49m\u001b[43maxis\u001b[49m\u001b[43m,\u001b[49m\n\u001b[0;32m  11925\u001b[0m \u001b[43m        \u001b[49m\u001b[43mlevel\u001b[49m\u001b[38;5;241;43m=\u001b[39;49m\u001b[43mlevel\u001b[49m\u001b[43m,\u001b[49m\n\u001b[0;32m  11926\u001b[0m \u001b[43m        \u001b[49m\u001b[43mtry_cast\u001b[49m\u001b[38;5;241;43m=\u001b[39;49m\u001b[43mtry_cast\u001b[49m\u001b[43m,\u001b[49m\n\u001b[0;32m  11927\u001b[0m \u001b[43m    \u001b[49m\u001b[43m)\u001b[49m\n",
      "File \u001b[1;32m~\\AppData\\Roaming\\Python\\Python310\\site-packages\\pandas\\util\\_decorators.py:211\u001b[0m, in \u001b[0;36mdeprecate_kwarg.<locals>._deprecate_kwarg.<locals>.wrapper\u001b[1;34m(*args, **kwargs)\u001b[0m\n\u001b[0;32m    209\u001b[0m     \u001b[38;5;28;01melse\u001b[39;00m:\n\u001b[0;32m    210\u001b[0m         kwargs[new_arg_name] \u001b[38;5;241m=\u001b[39m new_arg_value\n\u001b[1;32m--> 211\u001b[0m \u001b[38;5;28;01mreturn\u001b[39;00m func(\u001b[38;5;241m*\u001b[39margs, \u001b[38;5;241m*\u001b[39m\u001b[38;5;241m*\u001b[39mkwargs)\n",
      "File \u001b[1;32m~\\AppData\\Roaming\\Python\\Python310\\site-packages\\pandas\\util\\_decorators.py:331\u001b[0m, in \u001b[0;36mdeprecate_nonkeyword_arguments.<locals>.decorate.<locals>.wrapper\u001b[1;34m(*args, **kwargs)\u001b[0m\n\u001b[0;32m    325\u001b[0m \u001b[38;5;28;01mif\u001b[39;00m \u001b[38;5;28mlen\u001b[39m(args) \u001b[38;5;241m>\u001b[39m num_allow_args:\n\u001b[0;32m    326\u001b[0m     warnings\u001b[38;5;241m.\u001b[39mwarn(\n\u001b[0;32m    327\u001b[0m         msg\u001b[38;5;241m.\u001b[39mformat(arguments\u001b[38;5;241m=\u001b[39m_format_argument_list(allow_args)),\n\u001b[0;32m    328\u001b[0m         \u001b[38;5;167;01mFutureWarning\u001b[39;00m,\n\u001b[0;32m    329\u001b[0m         stacklevel\u001b[38;5;241m=\u001b[39mfind_stack_level(),\n\u001b[0;32m    330\u001b[0m     )\n\u001b[1;32m--> 331\u001b[0m \u001b[38;5;28;01mreturn\u001b[39;00m func(\u001b[38;5;241m*\u001b[39margs, \u001b[38;5;241m*\u001b[39m\u001b[38;5;241m*\u001b[39mkwargs)\n",
      "File \u001b[1;32m~\\AppData\\Roaming\\Python\\Python310\\site-packages\\pandas\\core\\generic.py:9968\u001b[0m, in \u001b[0;36mNDFrame.where\u001b[1;34m(self, cond, other, inplace, axis, level, errors, try_cast)\u001b[0m\n\u001b[0;32m   9960\u001b[0m \u001b[38;5;28;01mif\u001b[39;00m try_cast \u001b[38;5;129;01mis\u001b[39;00m \u001b[38;5;129;01mnot\u001b[39;00m lib\u001b[38;5;241m.\u001b[39mno_default:\n\u001b[0;32m   9961\u001b[0m     warnings\u001b[38;5;241m.\u001b[39mwarn(\n\u001b[0;32m   9962\u001b[0m         \u001b[38;5;124m\"\u001b[39m\u001b[38;5;124mtry_cast keyword is deprecated and will be removed in a \u001b[39m\u001b[38;5;124m\"\u001b[39m\n\u001b[0;32m   9963\u001b[0m         \u001b[38;5;124m\"\u001b[39m\u001b[38;5;124mfuture version.\u001b[39m\u001b[38;5;124m\"\u001b[39m,\n\u001b[0;32m   9964\u001b[0m         \u001b[38;5;167;01mFutureWarning\u001b[39;00m,\n\u001b[0;32m   9965\u001b[0m         stacklevel\u001b[38;5;241m=\u001b[39mfind_stack_level(),\n\u001b[0;32m   9966\u001b[0m     )\n\u001b[1;32m-> 9968\u001b[0m \u001b[38;5;28;01mreturn\u001b[39;00m \u001b[38;5;28;43mself\u001b[39;49m\u001b[38;5;241;43m.\u001b[39;49m\u001b[43m_where\u001b[49m\u001b[43m(\u001b[49m\u001b[43mcond\u001b[49m\u001b[43m,\u001b[49m\u001b[43m \u001b[49m\u001b[43mother\u001b[49m\u001b[43m,\u001b[49m\u001b[43m \u001b[49m\u001b[43minplace\u001b[49m\u001b[43m,\u001b[49m\u001b[43m \u001b[49m\u001b[43maxis\u001b[49m\u001b[43m,\u001b[49m\u001b[43m \u001b[49m\u001b[43mlevel\u001b[49m\u001b[43m)\u001b[49m\n",
      "File \u001b[1;32m~\\AppData\\Roaming\\Python\\Python310\\site-packages\\pandas\\core\\generic.py:9657\u001b[0m, in \u001b[0;36mNDFrame._where\u001b[1;34m(self, cond, other, inplace, axis, level)\u001b[0m\n\u001b[0;32m   9655\u001b[0m         \u001b[38;5;28;01mfor\u001b[39;00m dt \u001b[38;5;129;01min\u001b[39;00m cond\u001b[38;5;241m.\u001b[39mdtypes:\n\u001b[0;32m   9656\u001b[0m             \u001b[38;5;28;01mif\u001b[39;00m \u001b[38;5;129;01mnot\u001b[39;00m is_bool_dtype(dt):\n\u001b[1;32m-> 9657\u001b[0m                 \u001b[38;5;28;01mraise\u001b[39;00m \u001b[38;5;167;01mValueError\u001b[39;00m(msg\u001b[38;5;241m.\u001b[39mformat(dtype\u001b[38;5;241m=\u001b[39mdt))\n\u001b[0;32m   9658\u001b[0m \u001b[38;5;28;01melse\u001b[39;00m:\n\u001b[0;32m   9659\u001b[0m     \u001b[38;5;66;03m# GH#21947 we have an empty DataFrame/Series, could be object-dtype\u001b[39;00m\n\u001b[0;32m   9660\u001b[0m     cond \u001b[38;5;241m=\u001b[39m cond\u001b[38;5;241m.\u001b[39mastype(\u001b[38;5;28mbool\u001b[39m)\n",
      "\u001b[1;31mValueError\u001b[0m: Boolean array expected for the condition, not float64"
     ]
    }
   ],
   "source": [
    "model.fit(train[X], train[\"Target\"])"
   ]
  },
  {
   "cell_type": "code",
   "execution_count": 112,
   "id": "85d11e91",
   "metadata": {},
   "outputs": [
    {
     "ename": "NameError",
     "evalue": "name 'predictors' is not defined",
     "output_type": "error",
     "traceback": [
      "\u001b[1;31m---------------------------------------------------------------------------\u001b[0m",
      "\u001b[1;31mNameError\u001b[0m                                 Traceback (most recent call last)",
      "Cell \u001b[1;32mIn[112], line 1\u001b[0m\n\u001b[1;32m----> 1\u001b[0m pred\u001b[38;5;241m=\u001b[39mmodel\u001b[38;5;241m.\u001b[39mpredict(test[\u001b[43mpredictors\u001b[49m])\n\u001b[0;32m      2\u001b[0m pred\n",
      "\u001b[1;31mNameError\u001b[0m: name 'predictors' is not defined"
     ]
    }
   ],
   "source": [
    "pred=model.predict(test[predictors])\n",
    "pred"
   ]
  },
  {
   "cell_type": "code",
   "execution_count": 113,
   "id": "0cb18e90",
   "metadata": {},
   "outputs": [
    {
     "ename": "NameError",
     "evalue": "name 'predictors' is not defined",
     "output_type": "error",
     "traceback": [
      "\u001b[1;31m---------------------------------------------------------------------------\u001b[0m",
      "\u001b[1;31mNameError\u001b[0m                                 Traceback (most recent call last)",
      "Cell \u001b[1;32mIn[113], line 1\u001b[0m\n\u001b[1;32m----> 1\u001b[0m model\u001b[38;5;241m.\u001b[39mscore(test[\u001b[43mpredictors\u001b[49m],test[\u001b[38;5;124m\"\u001b[39m\u001b[38;5;124mTarget\u001b[39m\u001b[38;5;124m\"\u001b[39m])\n",
      "\u001b[1;31mNameError\u001b[0m: name 'predictors' is not defined"
     ]
    }
   ],
   "source": [
    "model.score(test[predictors],test[\"Target\"])"
   ]
  },
  {
   "cell_type": "code",
   "execution_count": null,
   "id": "8b0f7bb6",
   "metadata": {},
   "outputs": [],
   "source": []
  }
 ],
 "metadata": {
  "kernelspec": {
   "display_name": "Python 3 (ipykernel)",
   "language": "python",
   "name": "python3"
  },
  "language_info": {
   "codemirror_mode": {
    "name": "ipython",
    "version": 3
   },
   "file_extension": ".py",
   "mimetype": "text/x-python",
   "name": "python",
   "nbconvert_exporter": "python",
   "pygments_lexer": "ipython3",
   "version": "3.10.7"
  }
 },
 "nbformat": 4,
 "nbformat_minor": 5
}
